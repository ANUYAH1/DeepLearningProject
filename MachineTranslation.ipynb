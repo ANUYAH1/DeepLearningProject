{
 "cells": [
  {
   "cell_type": "markdown",
   "metadata": {},
   "source": [
    "## Load and Clean Data"
   ]
  },
  {
   "cell_type": "code",
   "execution_count": 1,
   "metadata": {},
   "outputs": [],
   "source": [
    "import pickle"
   ]
  },
  {
   "cell_type": "code",
   "execution_count": 2,
   "metadata": {},
   "outputs": [
    {
     "name": "stderr",
     "output_type": "stream",
     "text": [
      "Using TensorFlow backend.\n"
     ]
    }
   ],
   "source": [
    "import pandas as pd\n",
    "import keras\n",
    "import numpy as np\n",
    "import matplotlib.pyplot as plt  "
   ]
  },
  {
   "cell_type": "code",
   "execution_count": 5,
   "metadata": {},
   "outputs": [],
   "source": [
    "reddit = pd.read_json(\"./data_1000.json\")"
   ]
  },
  {
   "cell_type": "code",
   "execution_count": 6,
   "metadata": {},
   "outputs": [],
   "source": [
    "reddit.comments = [x[:200] for x in reddit.comments]"
   ]
  },
  {
   "cell_type": "code",
   "execution_count": 7,
   "metadata": {},
   "outputs": [],
   "source": [
    "lst_col_ga = 'comments'\n",
    "\n",
    "df = reddit\n",
    "\n",
    "reddit = pd.DataFrame({\n",
    "     col:np.repeat(df[col].values, df[lst_col_ga].str.len())\n",
    "     for col in df.columns.drop(lst_col_ga)}\n",
    "   ).assign(**{lst_col_ga:np.concatenate(df[lst_col_ga].values)})[df.columns].dropna().reset_index(drop = True)"
   ]
  },
  {
   "cell_type": "code",
   "execution_count": 8,
   "metadata": {},
   "outputs": [],
   "source": [
    "reddit.comments = [x.replace(\"\\n\", '').replace(\"\\t\", '') for x in reddit.comments]\n",
    "reddit.title = [x.replace(\"\\n\", '').replace(\"\\t\", '') for x in reddit.title]"
   ]
  },
  {
   "cell_type": "code",
   "execution_count": 9,
   "metadata": {},
   "outputs": [],
   "source": [
    "reddit.comments = [x[:200] for x in reddit.comments]\n",
    "reddit.title = [x[:200] for x in reddit.title]"
   ]
  },
  {
   "cell_type": "code",
   "execution_count": 10,
   "metadata": {
    "scrolled": true
   },
   "outputs": [
    {
     "data": {
      "text/plain": [
       "'Having a bad mental health day, not liking what I see in the mirror Really need some positive'"
      ]
     },
     "execution_count": 10,
     "metadata": {},
     "output_type": "execute_result"
    }
   ],
   "source": [
    "reddit.iloc[260][1]"
   ]
  },
  {
   "cell_type": "code",
   "execution_count": 11,
   "metadata": {},
   "outputs": [],
   "source": [
    "reddit[['comments', 'title']].to_csv('reddit.csv', sep=\"\\t\", header=False, index=False)"
   ]
  },
  {
   "cell_type": "code",
   "execution_count": 12,
   "metadata": {},
   "outputs": [
    {
     "data": {
      "image/png": "[encoded data removed]",
      "text/plain": [
       "<Figure size 432x288 with 1 Axes>"
      ]
     },
     "metadata": {},
     "output_type": "display_data"
    }
   ],
   "source": [
    "plt.hist([len(i) for i in reddit.title], bins=50)\n",
    "plt.show()"
   ]
  },
  {
   "cell_type": "code",
   "execution_count": 13,
   "metadata": {},
   "outputs": [
    {
     "data": {
      "image/png": "[encoded data removed]",
      "text/plain": [
       "<Figure size 432x288 with 1 Axes>"
      ]
     },
     "metadata": {},
     "output_type": "display_data"
    }
   ],
   "source": [
    "plt.hist([len(i) for i in reddit.comments], bins=50)\n",
    "plt.show()"
   ]
  },
  {
   "cell_type": "code",
   "execution_count": 14,
   "metadata": {},
   "outputs": [
    {
     "data": {
      "text/plain": [
       "39446"
      ]
     },
     "execution_count": 14,
     "metadata": {},
     "output_type": "execute_result"
    }
   ],
   "source": [
    "len(reddit)"
   ]
  },
  {
   "cell_type": "code",
   "execution_count": 15,
   "metadata": {},
   "outputs": [
    {
     "ename": "NameError",
     "evalue": "name 'comm_len' is not defined",
     "output_type": "error",
     "traceback": [
      "\u001b[1;31m---------------------------------------------------------------------------\u001b[0m",
      "\u001b[1;31mNameError\u001b[0m                                 Traceback (most recent call last)",
      "\u001b[1;32m<ipython-input-15-c2485b71401b>\u001b[0m in \u001b[0;36m<module>\u001b[1;34m()\u001b[0m\n\u001b[1;32m----> 1\u001b[1;33m \u001b[0mplt\u001b[0m\u001b[1;33m.\u001b[0m\u001b[0mscatter\u001b[0m\u001b[1;33m(\u001b[0m\u001b[1;33m[\u001b[0m\u001b[0mi\u001b[0m \u001b[1;32mfor\u001b[0m \u001b[0mi\u001b[0m \u001b[1;32min\u001b[0m \u001b[0mrange\u001b[0m\u001b[1;33m(\u001b[0m\u001b[0mlen\u001b[0m\u001b[1;33m(\u001b[0m\u001b[0mcomm_len\u001b[0m\u001b[1;33m)\u001b[0m\u001b[1;33m)\u001b[0m\u001b[1;33m]\u001b[0m\u001b[1;33m,\u001b[0m \u001b[0mcomm_len\u001b[0m\u001b[1;33m)\u001b[0m\u001b[1;33m\u001b[0m\u001b[1;33m\u001b[0m\u001b[0m\n\u001b[0m",
      "\u001b[1;31mNameError\u001b[0m: name 'comm_len' is not defined"
     ]
    }
   ],
   "source": [
    "plt.scatter([i for i in range(len(comm_len))], comm_len)"
   ]
  },
  {
   "cell_type": "code",
   "execution_count": 16,
   "metadata": {
    "scrolled": true
   },
   "outputs": [
    {
     "name": "stdout",
     "output_type": "stream",
     "text": [
      "Saved: english-german.pkl\n",
      "[i dont even know what to say rtoastme community you have all blown my mind and touched my heart when i posted this i was just sharing little bit of myself and didnt expect much response cause t] => [i wanted to share a big milestone for me when i was deep in my depression for over a decade i had planned to disappear and quietly commit suicide at age i battled depression and found reasons to]\n",
      "[happy birthday i love your smile] => [i wanted to share a big milestone for me when i was deep in my depression for over a decade i had planned to disappear and quietly commit suicide at age i battled depression and found reasons to]\n",
      "[happy birthday congratulations on making it to this huge milestone you must be a very strong determined person to have overcome this depression is so hard to deal with and anyone who comes out al] => [i wanted to share a big milestone for me when i was deep in my depression for over a decade i had planned to disappear and quietly commit suicide at age i battled depression and found reasons to]\n",
      "[it makes me happy to see you smile after everything you went throughwell done] => [i wanted to share a big milestone for me when i was deep in my depression for over a decade i had planned to disappear and quietly commit suicide at age i battled depression and found reasons to]\n",
      "[happy birthday im so glad that you are still here your smile looks like it could brighten a whole room] => [i wanted to share a big milestone for me when i was deep in my depression for over a decade i had planned to disappear and quietly commit suicide at age i battled depression and found reasons to]\n",
      "[happy birthday im so glad you could make it i hope you enjoy those little things that didnt make sense before people look at his face if he could make it you can this is important] => [i wanted to share a big milestone for me when i was deep in my depression for over a decade i had planned to disappear and quietly commit suicide at age i battled depression and found reasons to]\n",
      "[happy birthday and congratulations for living a year longer than you thought you set a new record for yourself and i hope you set many more your smile is infectious your eyes beautiful and your be] => [i wanted to share a big milestone for me when i was deep in my depression for over a decade i had planned to disappear and quietly commit suicide at age i battled depression and found reasons to]\n",
      "[hooray and many happy returns on a milestone day you are an awesome bloke and have got through such adversity that we are incredibly lucky to have someone so vibrant as part of our communitystay bei] => [i wanted to share a big milestone for me when i was deep in my depression for over a decade i had planned to disappear and quietly commit suicide at age i battled depression and found reasons to]\n",
      "[thats awesome to hear im glad youre still alive and kept fighting happy birthday i wish you the best] => [i wanted to share a big milestone for me when i was deep in my depression for over a decade i had planned to disappear and quietly commit suicide at age i battled depression and found reasons to]\n",
      "[happy birthday your smile is super contagious] => [i wanted to share a big milestone for me when i was deep in my depression for over a decade i had planned to disappear and quietly commit suicide at age i battled depression and found reasons to]\n",
      "[youre such an awesome dude happy birthday man] => [i wanted to share a big milestone for me when i was deep in my depression for over a decade i had planned to disappear and quietly commit suicide at age i battled depression and found reasons to]\n",
      "[hey hey hey buddy beautiful post and an even lovely attitude big hug on deciding to be in charge of your life and working every step to get where you are cheers on your bday and a toast to you fr] => [i wanted to share a big milestone for me when i was deep in my depression for over a decade i had planned to disappear and quietly commit suicide at age i battled depression and found reasons to]\n",
      "[wait wait hold up ref you actually found that strength to keep the fuck going hot damn son thats definite calls for celebration i love you i dont care how far away you are or how much i dont] => [i wanted to share a big milestone for me when i was deep in my depression for over a decade i had planned to disappear and quietly commit suicide at age i battled depression and found reasons to]\n",
      "[this is amazing dude happy birthday im so glad youve discovered the light after such a dark time you are amazing and so so valuable im glad youre alive and sharing that smile with us today] => [i wanted to share a big milestone for me when i was deep in my depression for over a decade i had planned to disappear and quietly commit suicide at age i battled depression and found reasons to]\n",
      "[hell yeah this gives me hope] => [i wanted to share a big milestone for me when i was deep in my depression for over a decade i had planned to disappear and quietly commit suicide at age i battled depression and found reasons to]\n",
      "[happy birthday dude you did it im proud of you] => [i wanted to share a big milestone for me when i was deep in my depression for over a decade i had planned to disappear and quietly commit suicide at age i battled depression and found reasons to]\n",
      "[happy birthday congratulations and keep on smiling] => [i wanted to share a big milestone for me when i was deep in my depression for over a decade i had planned to disappear and quietly commit suicide at age i battled depression and found reasons to]\n",
      "[yesss i am so glad you are able to share your achievement with us happy birthday] => [i wanted to share a big milestone for me when i was deep in my depression for over a decade i had planned to disappear and quietly commit suicide at age i battled depression and found reasons to]\n",
      "[happy birthday hope you have a great day what an infectious smile] => [i wanted to share a big milestone for me when i was deep in my depression for over a decade i had planned to disappear and quietly commit suicide at age i battled depression and found reasons to]\n",
      "[your smile is contagious happy birthday i hope everything works out as you wish it does] => [i wanted to share a big milestone for me when i was deep in my depression for over a decade i had planned to disappear and quietly commit suicide at age i battled depression and found reasons to]\n",
      "[love that megawatt smile happy birthday mate keep smiling] => [i wanted to share a big milestone for me when i was deep in my depression for over a decade i had planned to disappear and quietly commit suicide at age i battled depression and found reasons to]\n",
      "[looks great on you and i have no doubt that will look even better glad we get to celebrate with you] => [i wanted to share a big milestone for me when i was deep in my depression for over a decade i had planned to disappear and quietly commit suicide at age i battled depression and found reasons to]\n",
      "[wish we could see more of that beard it looks glorious] => [i wanted to share a big milestone for me when i was deep in my depression for over a decade i had planned to disappear and quietly commit suicide at age i battled depression and found reasons to]\n",
      "[happy birthday toast stories like yours give me strength and hope for the future] => [i wanted to share a big milestone for me when i was deep in my depression for over a decade i had planned to disappear and quietly commit suicide at age i battled depression and found reasons to]\n",
      "[glad youre here with us friend thanks for including all of us in your birthday celebration and dont forget about us for] => [i wanted to share a big milestone for me when i was deep in my depression for over a decade i had planned to disappear and quietly commit suicide at age i battled depression and found reasons to]\n",
      "[i almost lost my best friend to suicide so its awesome to see that someone else won the battle there will always be people who deeply care about you and keep that genuine smile its gonna get you] => [i wanted to share a big milestone for me when i was deep in my depression for over a decade i had planned to disappear and quietly commit suicide at age i battled depression and found reasons to]\n",
      "[you are such a bright loving and happy soul im happy to see you thriving and doing so well it absolutely does get better and warriors like you are proof of it seeing your smile and hearing you] => [i wanted to share a big milestone for me when i was deep in my depression for over a decade i had planned to disappear and quietly commit suicide at age i battled depression and found reasons to]\n",
      "[dude you look so genuinely happy and that shit is contagiouscongratulations on finding reasons to live and walking yourself into a better life no one else did that thats all you im in a similar] => [i wanted to share a big milestone for me when i was deep in my depression for over a decade i had planned to disappear and quietly commit suicide at age i battled depression and found reasons to]\n",
      "[this is awesome im so happy for you happy birthday] => [i wanted to share a big milestone for me when i was deep in my depression for over a decade i had planned to disappear and quietly commit suicide at age i battled depression and found reasons to]\n",
      "[happy birthday thats amazing im so glad youre still around] => [i wanted to share a big milestone for me when i was deep in my depression for over a decade i had planned to disappear and quietly commit suicide at age i battled depression and found reasons to]\n",
      "[happy birthday i think the phrase life begins at has special meaning with you so i hope you enjoy every moment] => [i wanted to share a big milestone for me when i was deep in my depression for over a decade i had planned to disappear and quietly commit suicide at age i battled depression and found reasons to]\n",
      "[happy birthday and congratulations on your bravery and determination so happy for you] => [i wanted to share a big milestone for me when i was deep in my depression for over a decade i had planned to disappear and quietly commit suicide at age i battled depression and found reasons to]\n",
      "[look at yourself what a strong person you are youre great and powerful and you should celebrate the biggest party ever its so lovely how happy you look be proud of yourself you won the fight and] => [i wanted to share a big milestone for me when i was deep in my depression for over a decade i had planned to disappear and quietly commit suicide at age i battled depression and found reasons to]\n",
      "[honestly good on you good on you to the moon and back you deserve as much happiness as you want and nobody should ever stop you goodluck man] => [i wanted to share a big milestone for me when i was deep in my depression for over a decade i had planned to disappear and quietly commit suicide at age i battled depression and found reasons to]\n",
      "[im a happy go lucky kind of person ive been through shit and always came out clean on the other side i have no idea what depression feels like but i know from family what it can do seeing the pu] => [i wanted to share a big milestone for me when i was deep in my depression for over a decade i had planned to disappear and quietly commit suicide at age i battled depression and found reasons to]\n",
      "[legend] => [i wanted to share a big milestone for me when i was deep in my depression for over a decade i had planned to disappear and quietly commit suicide at age i battled depression and found reasons to]\n",
      "[happy birthday and i really love your smile] => [i wanted to share a big milestone for me when i was deep in my depression for over a decade i had planned to disappear and quietly commit suicide at age i battled depression and found reasons to]\n",
      "[you are a survivor my man you decided to see whats hiding in your future and trust me since you have the opportunity to live to tell and remember knowing stuff is power the rest is extraim p] => [i wanted to share a big milestone for me when i was deep in my depression for over a decade i had planned to disappear and quietly commit suicide at age i battled depression and found reasons to]\n",
      "[you are amazing all the best] => [i wanted to share a big milestone for me when i was deep in my depression for over a decade i had planned to disappear and quietly commit suicide at age i battled depression and found reasons to]\n",
      "[happy birthday its so reassuring to know that one can get out of that dreaded mental pit even after so longmay your story provide strength to lots of people who find themselves trapped in depressio] => [i wanted to share a big milestone for me when i was deep in my depression for over a decade i had planned to disappear and quietly commit suicide at age i battled depression and found reasons to]\n",
      "[happy birthday well done on sticking around] => [i wanted to share a big milestone for me when i was deep in my depression for over a decade i had planned to disappear and quietly commit suicide at age i battled depression and found reasons to]\n",
      "[the world is definitely better off that that goofy fun smile is still with us] => [i wanted to share a big milestone for me when i was deep in my depression for over a decade i had planned to disappear and quietly commit suicide at age i battled depression and found reasons to]\n",
      "[were all so happy youre still here man heres to another happy years] => [i wanted to share a big milestone for me when i was deep in my depression for over a decade i had planned to disappear and quietly commit suicide at age i battled depression and found reasons to]\n",
      "[idk why im crying in the club rn] => [i wanted to share a big milestone for me when i was deep in my depression for over a decade i had planned to disappear and quietly commit suicide at age i battled depression and found reasons to]\n",
      "[i was in the same place almost exactly a year ago i was ready to kill myself i spent most of my days thinking of what the best time place and method was that i could do it quickly and quietly with] => [i wanted to share a big milestone for me when i was deep in my depression for over a decade i had planned to disappear and quietly commit suicide at age i battled depression and found reasons to]\n",
      "[happy birthday i feel like you just toasted us somehow thanks for the positive message] => [i wanted to share a big milestone for me when i was deep in my depression for over a decade i had planned to disappear and quietly commit suicide at age i battled depression and found reasons to]\n",
      "[hell yeah brother] => [i wanted to share a big milestone for me when i was deep in my depression for over a decade i had planned to disappear and quietly commit suicide at age i battled depression and found reasons to]\n",
      "[helsinky is that you congrats sir on overcoming the challenges and a have a great cakeday] => [i wanted to share a big milestone for me when i was deep in my depression for over a decade i had planned to disappear and quietly commit suicide at age i battled depression and found reasons to]\n",
      "[happy birthday dude you deserve this hopefully there will be many more have a great day and keep the positivity alive] => [i wanted to share a big milestone for me when i was deep in my depression for over a decade i had planned to disappear and quietly commit suicide at age i battled depression and found reasons to]\n",
      "[happy birthday handsome] => [i wanted to share a big milestone for me when i was deep in my depression for over a decade i had planned to disappear and quietly commit suicide at age i battled depression and found reasons to]\n",
      "[happy birthday keep smiling] => [i wanted to share a big milestone for me when i was deep in my depression for over a decade i had planned to disappear and quietly commit suicide at age i battled depression and found reasons to]\n",
      "[happy birthday way to go man] => [i wanted to share a big milestone for me when i was deep in my depression for over a decade i had planned to disappear and quietly commit suicide at age i battled depression and found reasons to]\n",
      "[happy birthday its tough to carry on when its rough but you did it] => [i wanted to share a big milestone for me when i was deep in my depression for over a decade i had planned to disappear and quietly commit suicide at age i battled depression and found reasons to]\n",
      "[im have been going through a very tough period my life got ghosted by a closefriend a year back and so many others and your post is the reason for my smile todayi need to believe that kindness exi] => [i wanted to share a big milestone for me when i was deep in my depression for over a decade i had planned to disappear and quietly commit suicide at age i battled depression and found reasons to]\n",
      "[happy birthday it makes me so happy knowing about people getting better with this keep it up] => [i wanted to share a big milestone for me when i was deep in my depression for over a decade i had planned to disappear and quietly commit suicide at age i battled depression and found reasons to]\n",
      "[glad youre still with us heres to another more] => [i wanted to share a big milestone for me when i was deep in my depression for over a decade i had planned to disappear and quietly commit suicide at age i battled depression and found reasons to]\n",
      "[happy birthday and congratu fuckin lations for getting better im proud of you] => [i wanted to share a big milestone for me when i was deep in my depression for over a decade i had planned to disappear and quietly commit suicide at age i battled depression and found reasons to]\n",
      "[happy birthday you resilient bastid proud of you for your hard work] => [i wanted to share a big milestone for me when i was deep in my depression for over a decade i had planned to disappear and quietly commit suicide at age i battled depression and found reasons to]\n",
      "[happy birthday and im proud of you mate hope you are too] => [i wanted to share a big milestone for me when i was deep in my depression for over a decade i had planned to disappear and quietly commit suicide at age i battled depression and found reasons to]\n",
      "[glad you made it through happy birthday] => [i wanted to share a big milestone for me when i was deep in my depression for over a decade i had planned to disappear and quietly commit suicide at age i battled depression and found reasons to]\n",
      "[happy birthday i hope things get better and better for you] => [i wanted to share a big milestone for me when i was deep in my depression for over a decade i had planned to disappear and quietly commit suicide at age i battled depression and found reasons to]\n",
      "[you have warmed my hearti am so happy for youi am so happy you can now look back and see how far you have comebless you] => [i wanted to share a big milestone for me when i was deep in my depression for over a decade i had planned to disappear and quietly commit suicide at age i battled depression and found reasons to]\n",
      "[happy birthday man youre only once so enjoy it] => [i wanted to share a big milestone for me when i was deep in my depression for over a decade i had planned to disappear and quietly commit suicide at age i battled depression and found reasons to]\n",
      "[happy birthday charles heres to another years my dude] => [i wanted to share a big milestone for me when i was deep in my depression for over a decade i had planned to disappear and quietly commit suicide at age i battled depression and found reasons to]\n",
      "[you have such a beautiful face man have a very happy birthday cheers] => [i wanted to share a big milestone for me when i was deep in my depression for over a decade i had planned to disappear and quietly commit suicide at age i battled depression and found reasons to]\n",
      "[all the toast to you friend and cheers to the many happy years ahead] => [i wanted to share a big milestone for me when i was deep in my depression for over a decade i had planned to disappear and quietly commit suicide at age i battled depression and found reasons to]\n",
      "[glad youre here man happy birthday to the rest of your life] => [i wanted to share a big milestone for me when i was deep in my depression for over a decade i had planned to disappear and quietly commit suicide at age i battled depression and found reasons to]\n",
      "[happy birthday] => [i wanted to share a big milestone for me when i was deep in my depression for over a decade i had planned to disappear and quietly commit suicide at age i battled depression and found reasons to]\n",
      "[man im about to finish my and they have been a real pain most of the time i see why theyre called the yearning years hopefully my will live up to the earning years moniker im glad] => [i wanted to share a big milestone for me when i was deep in my depression for over a decade i had planned to disappear and quietly commit suicide at age i battled depression and found reasons to]\n",
      "[this is the happiest smile i think ive ever seen i dont know how else to put it it just draws my attention completely] => [i wanted to share a big milestone for me when i was deep in my depression for over a decade i had planned to disappear and quietly commit suicide at age i battled depression and found reasons to]\n",
      "[happy birthday baby boyso proud of you thank you for sharing your massive success and strength with us so many of us need that hope and support you got this keep it up] => [i wanted to share a big milestone for me when i was deep in my depression for over a decade i had planned to disappear and quietly commit suicide at age i battled depression and found reasons to]\n",
      "[happy birthday charles we are all super happy to be here for your birthday party can tell with that happy smile that the world is lucky that you stuck around cheers] => [i wanted to share a big milestone for me when i was deep in my depression for over a decade i had planned to disappear and quietly commit suicide at age i battled depression and found reasons to]\n",
      "[fuck yeaaaaaaaaaahhhhhhcause i can relate] => [i wanted to share a big milestone for me when i was deep in my depression for over a decade i had planned to disappear and quietly commit suicide at age i battled depression and found reasons to]\n",
      "[you look badass] => [i wanted to share a big milestone for me when i was deep in my depression for over a decade i had planned to disappear and quietly commit suicide at age i battled depression and found reasons to]\n",
      "[happy birthday friendi couldnt toast you so i figured sending some love would be better] => [i wanted to share a big milestone for me when i was deep in my depression for over a decade i had planned to disappear and quietly commit suicide at age i battled depression and found reasons to]\n",
      "[well donehappy birthdaylife will always get betterkeep it upwe all love you] => [i wanted to share a big milestone for me when i was deep in my depression for over a decade i had planned to disappear and quietly commit suicide at age i battled depression and found reasons to]\n",
      "[your post made me smile strength radiates from you that is good a happiness knowing that you have survivors something dark go you] => [i wanted to share a big milestone for me when i was deep in my depression for over a decade i had planned to disappear and quietly commit suicide at age i battled depression and found reasons to]\n",
      "[happy birthday im glad youre alive] => [i wanted to share a big milestone for me when i was deep in my depression for over a decade i had planned to disappear and quietly commit suicide at age i battled depression and found reasons to]\n",
      "[great job nice beard] => [i wanted to share a big milestone for me when i was deep in my depression for over a decade i had planned to disappear and quietly commit suicide at age i battled depression and found reasons to]\n",
      "[happy birthday young man that is a smile worth sharing and a life worth living give it your absolute best] => [i wanted to share a big milestone for me when i was deep in my depression for over a decade i had planned to disappear and quietly commit suicide at age i battled depression and found reasons to]\n",
      "[damn if that aint just the happy face i needed to see to motivate me today love your beard dude] => [i wanted to share a big milestone for me when i was deep in my depression for over a decade i had planned to disappear and quietly commit suicide at age i battled depression and found reasons to]\n",
      "[happy birthday] => [i wanted to share a big milestone for me when i was deep in my depression for over a decade i had planned to disappear and quietly commit suicide at age i battled depression and found reasons to]\n",
      "[this gives me hope happy birthday] => [i wanted to share a big milestone for me when i was deep in my depression for over a decade i had planned to disappear and quietly commit suicide at age i battled depression and found reasons to]\n",
      "[you are awesome and you are always going to be awesome] => [i wanted to share a big milestone for me when i was deep in my depression for over a decade i had planned to disappear and quietly commit suicide at age i battled depression and found reasons to]\n",
      "[] => [i wanted to share a big milestone for me when i was deep in my depression for over a decade i had planned to disappear and quietly commit suicide at age i battled depression and found reasons to]\n",
      "[deepest congratulations to you i know im a stranger on the internet but holy shit am i proud of you suicide is never the answer it always gets better and i for one am glad youre still around i h] => [i wanted to share a big milestone for me when i was deep in my depression for over a decade i had planned to disappear and quietly commit suicide at age i battled depression and found reasons to]\n",
      "[yes] => [i wanted to share a big milestone for me when i was deep in my depression for over a decade i had planned to disappear and quietly commit suicide at age i battled depression and found reasons to]\n",
      "[happy birthday you have a smile that lights up the whole room plus you look so handsomeive been through some things as well and i realized that it does get betteranyways cheers] => [i wanted to share a big milestone for me when i was deep in my depression for over a decade i had planned to disappear and quietly commit suicide at age i battled depression and found reasons to]\n",
      "[happy birthday ya big lug you are amazing] => [i wanted to share a big milestone for me when i was deep in my depression for over a decade i had planned to disappear and quietly commit suicide at age i battled depression and found reasons to]\n",
      "[happy youre amazing and have a great smile heres to forty more years cheers] => [i wanted to share a big milestone for me when i was deep in my depression for over a decade i had planned to disappear and quietly commit suicide at age i battled depression and found reasons to]\n",
      "[you are a hero happy birthday] => [i wanted to share a big milestone for me when i was deep in my depression for over a decade i had planned to disappear and quietly commit suicide at age i battled depression and found reasons to]\n",
      "[happy birthday im glad you found your reasons to stick around] => [i wanted to share a big milestone for me when i was deep in my depression for over a decade i had planned to disappear and quietly commit suicide at age i battled depression and found reasons to]\n",
      "[you have such a joyous smile im proud of you for keeping on living i know how hard it is some days] => [i wanted to share a big milestone for me when i was deep in my depression for over a decade i had planned to disappear and quietly commit suicide at age i battled depression and found reasons to]\n",
      "[nice beard man mine always grows uneven] => [i wanted to share a big milestone for me when i was deep in my depression for over a decade i had planned to disappear and quietly commit suicide at age i battled depression and found reasons to]\n",
      "[sorry but i have to call you on it you make this great post but hide that glorious beard from the rest of us share the love] => [i wanted to share a big milestone for me when i was deep in my depression for over a decade i had planned to disappear and quietly commit suicide at age i battled depression and found reasons to]\n",
      "[it really helps me and makes my day to see stories like this the age in my head has always been a couple years to go for me but im slowly starting to gain hope thank you for sharing your s] => [i wanted to share a big milestone for me when i was deep in my depression for over a decade i had planned to disappear and quietly commit suicide at age i battled depression and found reasons to]\n",
      "[happy birthday glad you are still with us] => [i wanted to share a big milestone for me when i was deep in my depression for over a decade i had planned to disappear and quietly commit suicide at age i battled depression and found reasons to]\n",
      "[happy i love your beard and great job kicking depression i know thats gotta be tough to do but you did it] => [i wanted to share a big milestone for me when i was deep in my depression for over a decade i had planned to disappear and quietly commit suicide at age i battled depression and found reasons to]\n",
      "[happy birthday huge hug for ya im so very proud of your accomplishment that you found reasons to stay with us your smile alone has brightened my day] => [i wanted to share a big milestone for me when i was deep in my depression for over a decade i had planned to disappear and quietly commit suicide at age i battled depression and found reasons to]\n",
      "[happy day mister im glad you stuck around] => [i wanted to share a big milestone for me when i was deep in my depression for over a decade i had planned to disappear and quietly commit suicide at age i battled depression and found reasons to]\n"
     ]
    }
   ],
   "source": [
    "import string\n",
    "import re\n",
    "from pickle import dump\n",
    "from unicodedata import normalize\n",
    "from numpy import array\n",
    "\n",
    "# load doc into memory\n",
    "def load_doc(filename):\n",
    "\t# open the file as read only\n",
    "\tfile = open(filename, mode='rt', encoding='utf-8')\n",
    "\t# read all text\n",
    "\ttext = file.read()\n",
    "\t# close the file\n",
    "\tfile.close()\n",
    "\treturn text\n",
    "\n",
    "# split a loaded document into sentences\n",
    "def to_pairs(doc):\n",
    "\tlines = doc.strip().split('\\n')\n",
    "\tpairs = [line.split('\\t') for line in  lines]\n",
    "\treturn pairs\n",
    "\n",
    "# clean a list of lines\n",
    "def clean_pairs(lines):\n",
    "\tcleaned = list()\n",
    "\t# prepare regex for char filtering\n",
    "\tre_print = re.compile('[^%s]' % re.escape(string.printable))\n",
    "\t# prepare translation table for removing punctuation\n",
    "\ttable = str.maketrans('', '', string.punctuation)\n",
    "\tfor pair in lines:\n",
    "\t\tclean_pair = list()\n",
    "\t\tfor line in pair:\n",
    "\t\t\t# normalize unicode characters\n",
    "\t\t\tline = normalize('NFD', line).encode('ascii', 'ignore')\n",
    "\t\t\tline = line.decode('UTF-8')\n",
    "\t\t\t# tokenize on white space\n",
    "\t\t\tline = line.split()\n",
    "\t\t\t# convert to lowercase\n",
    "\t\t\tline = [word.lower() for word in line]\n",
    "\t\t\t# remove punctuation from each token\n",
    "\t\t\tline = [word.translate(table) for word in line]\n",
    "\t\t\t# remove non-printable chars form each token\n",
    "\t\t\tline = [re_print.sub('', w) for w in line]\n",
    "\t\t\t# remove tokens with numbers in them\n",
    "\t\t\tline = [word for word in line if word.isalpha()]\n",
    "\t\t\t#store as string\n",
    "\t\t\tclean_pair.append(' '.join(line))\n",
    "\t\tif len(clean_pair) == 2:\n",
    "\t\t\tcleaned.append(clean_pair)\n",
    "\treturn array(cleaned)\n",
    "\n",
    "# save a list of clean sentences to file\n",
    "def save_clean_data(sentences, filename):\n",
    "\tdump(sentences, open(filename, 'wb'))\n",
    "\tprint('Saved: %s' % filename)\n",
    "\n",
    "# load dataset\n",
    "filename = './reddit.csv'\n",
    "doc = load_doc(filename)\n",
    "# split into english-german pairs\n",
    "pairs = to_pairs(doc)\n",
    "# clean sentences\n",
    "clean_pairs = clean_pairs(pairs)\n",
    "# save clean pairs to file\n",
    "save_clean_data(clean_pairs, 'english-german.pkl')\n",
    "# spot check\n",
    "for i in range(100):\n",
    "\tprint('[%s] => [%s]' % (clean_pairs[i,0], clean_pairs[i,1]))"
   ]
  },
  {
   "cell_type": "markdown",
   "metadata": {},
   "source": [
    "# Load, Reduce, and Split Clean Data"
   ]
  },
  {
   "cell_type": "code",
   "execution_count": 17,
   "metadata": {},
   "outputs": [
    {
     "name": "stdout",
     "output_type": "stream",
     "text": [
      "33000 6446\n",
      "Saved: english-german-both.pkl\n",
      "Saved: english-german-train.pkl\n",
      "Saved: english-german-test.pkl\n"
     ]
    }
   ],
   "source": [
    "from pickle import load\n",
    "from pickle import dump\n",
    "from numpy.random import rand\n",
    "from numpy.random import shuffle\n",
    "\n",
    "# load a clean dataset\n",
    "def load_clean_sentences(filename):\n",
    "    return load(open(filename, 'rb'))\n",
    "\n",
    "# # save a list of clean sentences to file\n",
    "def save_clean_data(sentences, filename):\n",
    "    dump(sentences, open(filename, 'wb'))\n",
    "    print('Saved: %s' % filename)\n",
    "\n",
    "# load dataset\n",
    "raw_dataset = load_clean_sentences('english-german.pkl')\n",
    "\n",
    "# reduce dataset size\n",
    "#n_sentences = 4963\n",
    "dataset =  raw_dataset #[:n_sentences, :]\n",
    "# random shuffle\n",
    "shuffle(dataset)\n",
    "# split into train/test\n",
    "train, test = dataset[:33000], dataset[33000:]\n",
    "print(len(train), len(test))\n",
    "# save\n",
    "save_clean_data(dataset, 'english-german-both.pkl')\n",
    "save_clean_data(train, 'english-german-train.pkl')\n",
    "save_clean_data(test, 'english-german-test.pkl')"
   ]
  },
  {
   "cell_type": "markdown",
   "metadata": {},
   "source": [
    "## Train"
   ]
  },
  {
   "cell_type": "code",
   "execution_count": 4,
   "metadata": {},
   "outputs": [],
   "source": [
    "VOCAB_SIZE = 300"
   ]
  },
  {
   "cell_type": "code",
   "execution_count": 5,
   "metadata": {},
   "outputs": [
    {
     "name": "stdout",
     "output_type": "stream",
     "text": [
      "23306\n",
      "English Vocabulary Size: 301\n",
      "English Max Length: 47\n",
      "German Vocabulary Size: 301\n",
      "German Max Length: 45\n"
     ]
    }
   ],
   "source": [
    "import pandas as pd\n",
    "import keras\n",
    "import numpy as np\n",
    "import matplotlib.pyplot as plt  \n",
    "from pickle import load\n",
    "from numpy import array\n",
    "from keras.preprocessing.text import Tokenizer\n",
    "from keras.preprocessing.sequence import pad_sequences\n",
    "from keras.utils import to_categorical\n",
    "from keras.utils.vis_utils import plot_model\n",
    "from keras.models import Sequential\n",
    "from keras.layers import LSTM\n",
    "from keras.layers import Dense\n",
    "from keras.layers import Embedding\n",
    "from keras.layers import RepeatVector\n",
    "from keras.layers import TimeDistributed\n",
    "from keras.callbacks import ModelCheckpoint\n",
    "from tqdm import tqdm_notebook\n",
    "\n",
    "# load a clean dataset\n",
    "def load_clean_sentences(filename):\n",
    "\treturn load(open(filename, 'rb'))\n",
    "\n",
    "# fit a tokenizer\n",
    "def create_tokenizer(lines):\n",
    "\ttokenizer = Tokenizer(num_words=VOCAB_SIZE)\n",
    "\ttokenizer.fit_on_texts(lines)\n",
    "\tprint(len(tokenizer.word_index))\n",
    "\treturn tokenizer\n",
    "\n",
    "# max sentence length\n",
    "def max_length(lines):\n",
    "\treturn max(len(line.split()) for line in lines)\n",
    "\n",
    "# load datasets\n",
    "dataset = load_clean_sentences('english-german-both.pkl')\n",
    "train = load_clean_sentences('english-german-train.pkl')\n",
    "test = load_clean_sentences('english-german-test.pkl')\n",
    "\n",
    "# prepare english tokenizer\n",
    "tokenizer = create_tokenizer(dataset[:, 0:2].ravel())\n",
    "vocab_size = tokenizer.num_words + 1\n",
    "eng_length = max_length(dataset[:, 0])\n",
    "print('English Vocabulary Size: %d' % vocab_size)\n",
    "print('English Max Length: %d' % (eng_length))\n",
    "# prepare german tokenizer\n",
    "ger_length = max_length(dataset[:, 1])\n",
    "print('German Vocabulary Size: %d' % vocab_size)\n",
    "print('German Max Length: %d' % (ger_length))"
   ]
  },
  {
   "cell_type": "code",
   "execution_count": 2,
   "metadata": {},
   "outputs": [
    {
     "name": "stdout",
     "output_type": "stream",
     "text": [
      "Found 400000 word vectors.\n"
     ]
    }
   ],
   "source": [
    "import os\n",
    "GLOVE_DIR = \"./\"\n",
    "embeddings_index = {}\n",
    "f = open(os.path.join(GLOVE_DIR, 'glove.6B.300d.txt'), encoding='utf-8')\n",
    "for line in f:\n",
    "    values = line.split()\n",
    "    word = values[0]\n",
    "    coefs = np.asarray(values[1:], dtype='float32')\n",
    "    embeddings_index[word] = coefs\n",
    "f.close()\n",
    "\n",
    "print('Found %s word vectors.' % len(embeddings_index))"
   ]
  },
  {
   "cell_type": "code",
   "execution_count": 6,
   "metadata": {},
   "outputs": [],
   "source": [
    "EMBEDDING_DIM = 300\n",
    "embedding_matrix = np.zeros((tokenizer.num_words+1, EMBEDDING_DIM))\n",
    "for word, i in [i for i in tokenizer.word_index.items()][:tokenizer.num_words]:\n",
    "    embedding_vector = embeddings_index.get(word)\n",
    "    if embedding_vector is not None:\n",
    "        # words not found in embedding index will be all-zeros.\n",
    "        embedding_matrix[i] = embedding_vector"
   ]
  },
  {
   "cell_type": "code",
   "execution_count": 7,
   "metadata": {
    "scrolled": false
   },
   "outputs": [],
   "source": [
    "# encode and pad sequences\n",
    "def encode_sequences(tokenizer, length, lines):\n",
    "    # integer encode sequences\n",
    "    X = tokenizer.texts_to_sequences(lines)\n",
    "    # pad sequences with 0 values\n",
    "    X = pad_sequences(X, maxlen=length, padding='post')\n",
    "    return X\n",
    "\n",
    "# one hot encode target sequence\n",
    "def encode_output(sequences, vocab_size):\n",
    "    ylist = list()\n",
    "    for sequence in tqdm_notebook(sequences):\n",
    "        encoded = to_categorical(sequence, num_classes=vocab_size)\n",
    "        ylist.append(encoded)\n",
    "    y = np.array(ylist)\n",
    "    y = y.reshape(sequences.shape[0], sequences.shape[1], vocab_size)\n",
    "    return y\n",
    "#     y = np.empty((0, len(sequences[0]), vocab_size), int)\n",
    "#     for sequence in tqdm_notebook(sequences):\n",
    "#         encoded = to_categorical(sequence, num_classes=vocab_size)\n",
    "#         y = np.append(y, np.array([encoded]), axis=0)\n",
    "#     print(y.shape)\n",
    "#     assert y.shape == (sequences.shape[0], sequences.shape[1], vocab_size)\n",
    "#     return y\n",
    "\n",
    "# define NMT model\n",
    "def define_model(src_vocab, tar_vocab, src_timesteps, tar_timesteps, n_units):\n",
    "#     cnn = keras.applications.vgg19.VGG19(include_top=True, weights='imagenet', input_tensor=None, input_shape=None, pooling=None, classes=1000)\n",
    "    \n",
    "    model = Sequential()\n",
    "    #model.add(Embedding(src_vocab, n_units, input_length=src_timesteps, mask_zero=True))\n",
    "    model.add(Embedding(src_vocab, n_units, input_length=src_timesteps, weights=[embedding_matrix], mask_zero=True, trainable=False))\n",
    "    model.add(LSTM(n_units))\n",
    "    model.add(RepeatVector(tar_timesteps))\n",
    "    model.add(LSTM(n_units, return_sequences=True))\n",
    "    model.add(TimeDistributed(Dense(tar_vocab, activation='softmax')))\n",
    "    return model\n",
    "\n",
    "\n",
    "\n"
   ]
  },
  {
   "cell_type": "code",
   "execution_count": 8,
   "metadata": {},
   "outputs": [
    {
     "data": {
      "application/vnd.jupyter.widget-view+json": {
       "model_id": "afb4feb839a444c9a621c551e5578e64",
       "version_major": 2,
       "version_minor": 0
      },
      "text/plain": [
       "HBox(children=(IntProgress(value=0, max=33000), HTML(value='')))"
      ]
     },
     "metadata": {},
     "output_type": "display_data"
    },
    {
     "name": "stdout",
     "output_type": "stream",
     "text": [
      "\n",
      "(33000, 45) (33000, 47, 301)\n"
     ]
    },
    {
     "data": {
      "application/vnd.jupyter.widget-view+json": {
       "model_id": "ec1e42ed4aa245f6aa1f52428f243cd0",
       "version_major": 2,
       "version_minor": 0
      },
      "text/plain": [
       "HBox(children=(IntProgress(value=0, max=6446), HTML(value='')))"
      ]
     },
     "metadata": {},
     "output_type": "display_data"
    },
    {
     "name": "stdout",
     "output_type": "stream",
     "text": [
      "\n",
      "(6446, 45) (6446, 47, 301)\n"
     ]
    }
   ],
   "source": [
    "# prepare training data\n",
    "trainX = encode_sequences(tokenizer, ger_length, train[:, 1])\n",
    "trainY = encode_sequences(tokenizer, eng_length, train[:, 0])\n",
    "trainY = encode_output(trainY, vocab_size)\n",
    "print(trainX.shape, trainY.shape)\n",
    "\n",
    "# prepare validation data\n",
    "testX = encode_sequences(tokenizer, ger_length, test[:, 1])\n",
    "testY = encode_sequences(tokenizer, eng_length, test[:, 0])\n",
    "testY = encode_output(testY, vocab_size)\n",
    "print(testX.shape, testY.shape)"
   ]
  },
  {
   "cell_type": "code",
   "execution_count": 9,
   "metadata": {},
   "outputs": [
    {
     "name": "stdout",
     "output_type": "stream",
     "text": [
      "_________________________________________________________________\n",
      "Layer (type)                 Output Shape              Param #   \n",
      "=================================================================\n",
      "embedding_1 (Embedding)      (None, 45, 300)           90300     \n",
      "_________________________________________________________________\n",
      "lstm_1 (LSTM)                (None, 300)               721200    \n",
      "_________________________________________________________________\n",
      "repeat_vector_1 (RepeatVecto (None, 47, 300)           0         \n",
      "_________________________________________________________________\n",
      "lstm_2 (LSTM)                (None, 47, 300)           721200    \n",
      "_________________________________________________________________\n",
      "time_distributed_1 (TimeDist (None, 47, 301)           90601     \n",
      "=================================================================\n",
      "Total params: 1,623,301\n",
      "Trainable params: 1,533,001\n",
      "Non-trainable params: 90,300\n",
      "_________________________________________________________________\n",
      "None\n"
     ]
    }
   ],
   "source": [
    "# define model\n",
    "model = define_model(vocab_size, vocab_size, ger_length, eng_length, 300)\n",
    "model.compile(optimizer='adam', loss='categorical_crossentropy')\n",
    "# summarize defined model\n",
    "print(model.summary())"
   ]
  },
  {
   "cell_type": "code",
   "execution_count": null,
   "metadata": {
    "scrolled": false
   },
   "outputs": [
    {
     "name": "stdout",
     "output_type": "stream",
     "text": [
      "\n",
      "Epoch 00001: val_loss improved from inf to 2.03991, saving model to model.h5\n",
      "\n",
      "Epoch 00002: val_loss improved from 2.03991 to 2.03039, saving model to model.h5\n",
      "\n",
      "Epoch 00003: val_loss improved from 2.03039 to 2.02611, saving model to model.h5\n"
     ]
    }
   ],
   "source": [
    "#plot_model(model, to_file='model.png', show_shapes=True)\n",
    "# fit model\n",
    "filename = 'model.h5'\n",
    "checkpoint = ModelCheckpoint(filename, monitor='val_loss', verbose=1, save_best_only=True, mode='min')\n",
    "model.fit(trainX, trainY, epochs=100, batch_size=64, validation_data=(testX, testY), callbacks=[checkpoint], verbose=0)"
   ]
  },
  {
   "cell_type": "markdown",
   "metadata": {},
   "source": [
    "# Evaluation"
   ]
  },
  {
   "cell_type": "code",
   "execution_count": 8,
   "metadata": {
    "scrolled": true
   },
   "outputs": [
    {
     "name": "stderr",
     "output_type": "stream",
     "text": [
      "C:\\Users\\morod\\Anaconda3\\lib\\site-packages\\sklearn\\utils\\fixes.py:55: DeprecationWarning: inspect.getargspec() is deprecated since Python 3.0, use inspect.signature() or inspect.getfullargspec()\n",
      "  if 'order' in inspect.getargspec(np.copy)[0]:\n"
     ]
    },
    {
     "name": "stdout",
     "output_type": "stream",
     "text": [
      "train\n",
      "src=[i wanted to share a big milestone for me when i was deep in my depression for over a decade i had planned to disappear and quietly commit suicide at age i battled depression and found reasons to], target=[you absolutely epic champ keep it up and keep inspiring others thank you], predicted=[happy birthday you]\n",
      "src=[feeling kinda down but i knew reddit would be able to help], target=[you look like the type of guy that walks into a room and everyone just smiles because youre there how can you not kind hearted eyes a sweet smile and the color of your hair is stunning that crisp white shirt surely means you have a meeting with success good luck to you], predicted=[you look like]\n",
      "src=[tomorrow im going to court against my rapist and could really use some words of encouragement], target=[youre a legit hero], predicted=[you are you you]\n",
      "src=[over the past years or so ive gained about pounds every time i manage to lose some weight i quickly put them back on its really effected how i see myself and although i want to start my we], target=[your eyes are absolutely stunning you dont look overweight you look really beautiful please be kind to yourself because you deserve to know that youre loved], predicted=[you are]\n",
      "src=[found out today that a coworker said some really nasty things about my appearance but then i went a drove a car for the first time toast me please], target=[you kind of look a little like selena gomez adorable], predicted=[you are]\n",
      "src=[my grandad will probably die aroundon my birthday and i dont know how to flip photos on my phone], target=[he lived death is part of the journey ive lost a loved one on my birthday also i take it as an annual reminder to love life before its too late dont harbour pain for his death build joy as you celebrate the life he lived], predicted=[i birthday]\n",
      "src=[years single and alone this week had despicable by grandson stuck in my head all day i need some positivity because im out of it], target=[mate seeing your face has made my morning can we be friends i dont know you but bud its going to be okay really theres thousands of strangers here who are jumping at the chance to big you up], predicted=[you have like]\n",
      "src=[kinda socially awkwardshy self conscious and ive never really been in a relationship before], target=[youre the guy that our girls tell you not to worry about but we have to worry because well look at you im sure you are just as amazing as you look], predicted=[you look]\n",
      "src=[been struggling the most ive ever struggled my entire life i feel so broken please some wordds of encouragement would be so greatly appreciated], target=[aw dude sorry to hear that whats up you have a real kind look about you sorry youre sad cool specs bandanna and hair im sure whatever is happening you will get through it lovely hope you feel a bit better soon x], predicted=[you are]\n",
      "src=[i love commenting on other peoples posts to help them feel better im not sad or anything but i too enjoy compliments love you all], target=[i love your hair you look all warm and snuggly], predicted=[you have like]\n",
      "src=[hard to post this i have severe social anxiety and stress about my future as my sister has low functioning autism and i know ill be responsible for her after my parents pass stressing brings me dow], target=[just from this its clear that you are a stellar amazing lovely human being caring for a loved one is so hard and it takes someone with a big heart to do it you are wonderful and the world is a little bit of a brighter place with you in it], predicted=[you have a a]\n",
      "src=[hey guys and gals its been a rough several months looking for something to help keep my head up], target=[nice beard op], predicted=[you look like]\n",
      "src=[love makeup but want to feel equally comfortable without it thought a toast could give me a boost thank you], target=[your skin is absolutely perfect your glasses are awesome and i love your hair], predicted=[you are]\n",
      "src=[still having issues with self worth and i feel like my smile is really ugly but recently ive never been able to say i was happy im happy i found people who like me for me i think i still have], target=[people dont care bro they just want to put you down so they can feel superior keep up high spirit], predicted=[you look like a you]\n",
      "src=[passed my cpa exams and lost pounds in but relationships suck and i could really use a pick me up toast me], target=[that probably took a ton of hard work and i can tell you are very proud of your accomplishments congrats and good luck in your career going forward], predicted=[you you]\n",
      "src=[my boyfriends dad told him he should dump me for a hotter mutual friend he doesnt care for his opinion but it still hurt me in trying to look more like her my ed came back and im feeling pretty], target=[i lowkey stalked your profile and you are gorgeous seriously you should really model if youre comfortable with that of courseas someone whos struggledstruggling with an ed i know that someone simply telling you dont relapse wont do the trick im just really hoping youll make the decision yourselfi know its a choice we have to make over and over but you are strong dont let som], predicted=[you dad]\n",
      "src=[recently came out to my mom as trans and she said some pretty dishearteningmean things to me im currently dealing with some bad dysphoria and im in need of some cheering up can you guys help me], target=[you are beautiful inside and out you are also valid in identifying and feeling as you please], predicted=[you are you you]\n",
      "src=[my girlfriend just broke up with me looking for anything positive], target=[you look like my bf and hes handsomeeeeeee], predicted=[you look like]\n",
      "src=[managing my depression and anxiety better and will graduate hs soon], target=[first off you are adorablesecondly congrats graduating high school is a great accomplishment], predicted=[you look]\n",
      "src=[i finished a degree and didnt pursue it i lost all my friends and the motivation to even try anymore i hate myself and think everyone hates me too doctors think im healthy but my body and mind], target=[i also completed a degree and only used it for a few months until i got married and pregnantlife has a way of working out youre smart youll find yourself exactly where you need to be], predicted=[you are you]\n"
     ]
    },
    {
     "name": "stderr",
     "output_type": "stream",
     "text": [
      "C:\\Users\\morod\\Anaconda3\\lib\\site-packages\\nltk\\translate\\bleu_score.py:503: UserWarning: \n",
      "The hypothesis contains 0 counts of 4-gram overlaps.\n",
      "Therefore the BLEU score evaluates to 0, independently of\n",
      "how many N-gram overlaps of lower order it contains.\n",
      "Consider using lower n-gram order or use SmoothingFunction()\n",
      "  warnings.warn(_msg)\n"
     ]
    },
    {
     "name": "stdout",
     "output_type": "stream",
     "text": [
      "BLEU-1: 0.000007\n",
      "BLEU-2: 0.000003\n",
      "BLEU-3: 0.000001\n",
      "BLEU-4: 0.000000\n",
      "test\n",
      "src=[after years of avoidance i am finally dealing with the fact that i am a victim of childhood sexual abuse and rape as an adult currently feeling dirty worthless and hopelessly depressed], target=[dont fall into a spiral of blaming your problems on these past injustices you are still responsible for improving the quality of your own life], predicted=[you are you you you you you]\n",
      "src=[im going to a party soon and honestly i feel like shit and might end up not going maybe a toast will help], target=[low key archie andrews], predicted=[you look like]\n",
      "src=[just a sad lonely year old who looks like shes and hides her insecurities beneath a smile i could do with some toasting], target=[its okay to have insecurities just dont let them control your life youre cute and youll have guys wanting to come into your life so i dont think youll have to do this alone], predicted=[you are]\n",
      "src=[my gf of year cheated and confessed to me the week of valentines day we broke up and i havent been the same ever since graduating with a doctorate in under a month with limited job prospec], target=[first of all who would cheat on you youre hot what a dingus she is second of all congratulations on youre doctorate that takes so much grit and perseverance to achieve something like that dont let her take the joy of your achievement away], predicted=[you]\n",
      "src=[ive had a very rough past months going through a process of rebuilding myself emotionally i would love some toasting thanks so much], target=[goddess venus herself], predicted=[you are]\n",
      "src=[been struggling lately string of bad luck financial problems processing repressed trauma plus and told i look old hard to get over years of self hate man help me out], target=[honest smile beautiful face u look like a good person everything will be fine], predicted=[you are]\n",
      "src=[feeling pathetic even as i write this going thru an awful break up and the anxiety is overwhelming just want to feel that im worth something just want a distraction to get me thru today could you], target=[that guy you broke up with is missing out on an amazing looking woman], predicted=[you are you you]\n",
      "src=[year old female diagnosed with aspergers adhd anxiety social anxiety and depressive tendencies ive been heavily anorexic since i was and got bit by a dog im finally average weight ive h], target=[anorexia is a bitch and from personal experience getting the weight back on is very hard youre a very strong person and dont let anyone tell you otherwise being and having the courage to post something like this is something that i have great admiration for because i dont know if i could do it and im in my], predicted=[you are you you and]\n",
      "src=[ive had so many panic attacks every day in the past week i feel so empty], target=[i love this minimal goth look and omg those dark green eyes perfect on you i can tell just by your style that you and me would be buddies if we knew each other especially because of the anxiety thing i know that strugglealso what is that lip color its gorgeous], predicted=[you are]\n",
      "src=[halfway through my weight loss journey lost in recently earned my private pilots license heres to], target=[just get that chiseled jaw line and your set], predicted=[you look]\n",
      "src=[my anxiety has been taking over everything i do the past few weeks and i basically feel like ive been on autopilot my period just showed up to make me even more miserable could use some toasts plea], target=[i honestly just want to hug you youre so naturally pretty and you have a kind face], predicted=[you have]\n",
      "src=[struggling with bpd low self esteem and depression are keeping me down lately i could use a toast if you wouldnt mind], target=[low self esteem you are damn good looking], predicted=[you look like]\n",
      "src=[hi reddit not feeling super great about myself after some trolls got on me about my weight and said some pretty unwanted sexual things to me so feel free to toast me], target=[omg youre so cute your glasses and lip color fit you well and as a cg im jealous of your hair], predicted=[you are like]\n",
      "src=[having a stinky day got a couple of nasty comments about my huge schnoz that i normally dont feel insecure about], target=[everything about you is perfect for who you are you look so darling and like someone i would love to be friends with keep smiling hun], predicted=[you are]\n",
      "src=[finally got my bachelors degree at age in december and moved to florida right afterward have a bit of social anxiety hardly go out on weekendsjust feel lonely and miss home even though i love i], target=[congrats on the degree its a lot of effort and to move right after takes quite a bit of courage and initiative if you managed that im sure you can get rid of some or all of that weight if you want and month isnt that long to adjust to such a big change im sure you will get into the swing of things soon enough best wishes], predicted=[you look you you]\n",
      "src=[security guard at work asked me why i dont try to do myself up more said i would look prettier i have already been having issues with how i look since i gained weight], target=[pretty is not the rent you pay to exist in this world also you are pretty and that security guard was completely out of line gender irrelevant you owe it to yourself to let her know if you dont appreciate her comments], predicted=[you are you]\n",
      "src=[has been crying for a while sorry for no makeup], target=[why do you need makeup you look pretty enough makeup will just make you look worse], predicted=[you look need]\n",
      "src=[im graduating after my junior year have gotten in scholarships and am pursuing something i love all while dealing with intense anxiety depression and chronic migraine pain a humble brag], target=[yall we in the presence of a queen here give her her crown she deserves it d], predicted=[you are you]\n",
      "src=[old guy my bestfriendgf of years cheated on me guy she cheated on me with has been harassing me over social media and she ousted some very personal info about me to my family without my p], target=[i know it hurts like fuck right now and you have every right to be angry and cry it all out but down the road youll realize you dodged a bullet if shes the kind of person to do this shes not the kind of person you want to spend your life with at the ages you got together youre still figuring out what kind of person you are and it seems shes becoming a less savory one im sorry you hav], predicted=[you sorry sorry you you]\n",
      "src=[in the last months ive lost my dad jobs childhood pets my girlfriend and had to put our dog up for adoption heres a toast to everyone starting back at square one], target=[thank you for reminding me that my problems really arent so bad and that i can definitely work through them especially if you can smile through everything youve been through i am in awe of your strength youre a lovely human being], predicted=[i look like]\n",
      "BLEU-1: 0.000009\n",
      "BLEU-2: 0.000005\n",
      "BLEU-3: 0.000002\n",
      "BLEU-4: 0.000000\n"
     ]
    }
   ],
   "source": [
    "from pickle import load\n",
    "from numpy import array\n",
    "from numpy import argmax\n",
    "from keras.preprocessing.text import Tokenizer\n",
    "from keras.preprocessing.sequence import pad_sequences\n",
    "from keras.models import load_model\n",
    "from nltk.translate.bleu_score import corpus_bleu\n",
    "\n",
    "# max sentence length\n",
    "def max_length(lines):\n",
    "\treturn max(len(line.split()) for line in lines)\n",
    "\n",
    "# encode and pad sequences\n",
    "def encode_sequences(tokenizer, length, lines):\n",
    "\t# integer encode sequences\n",
    "\tX = tokenizer.texts_to_sequences(lines)\n",
    "\t# pad sequences with 0 values\n",
    "\tX = pad_sequences(X, maxlen=length, padding='post')\n",
    "\treturn X\n",
    "\n",
    "# map an integer to a word\n",
    "def word_for_id(integer, tokenizer):\n",
    "\tfor word, index in tokenizer.word_index.items():\n",
    "\t\tif index == integer:\n",
    "\t\t\treturn word\n",
    "\treturn None\n",
    "\n",
    "# generate target given source sequence\n",
    "def predict_sequence(model, tokenizer, source):\n",
    "\tprediction = model.predict(source, verbose=0)[0]\n",
    "\tintegers = [argmax(vector) for vector in prediction]\n",
    "\ttarget = list()\n",
    "\tfor i in integers:\n",
    "\t\tword = word_for_id(i, tokenizer)\n",
    "\t\tif word is None:\n",
    "\t\t\tbreak\n",
    "\t\ttarget.append(word)\n",
    "\treturn ' '.join(target)\n",
    "\n",
    "# evaluate the skill of the model\n",
    "def evaluate_model(model, tokenizer, sources, raw_dataset):\n",
    "\tactual, predicted = list(), list()\n",
    "\tfor i, source in enumerate(sources[:100]):\n",
    "\t\t# translate encoded source text\n",
    "\t\tsource = source.reshape((1, source.shape[0]))\n",
    "\t\ttranslation = predict_sequence(model, tokenizer, source)\n",
    "\t\traw_target, raw_src = raw_dataset[i]\n",
    "\t\tif i < 20:\n",
    "\t\t\tprint('src=[%s], target=[%s], predicted=[%s]' % (raw_src, raw_target, translation))\n",
    "\t\tactual.append([raw_target.split()])\n",
    "\t\tpredicted.append(translation.split())\n",
    "\t# calculate BLEU score\n",
    "\tprint('BLEU-1: %f' % corpus_bleu(actual, predicted, weights=(1.0, 0, 0, 0)))\n",
    "\tprint('BLEU-2: %f' % corpus_bleu(actual, predicted, weights=(0.5, 0.5, 0, 0)))\n",
    "\tprint('BLEU-3: %f' % corpus_bleu(actual, predicted, weights=(0.3, 0.3, 0.3, 0)))\n",
    "\tprint('BLEU-4: %f' % corpus_bleu(actual, predicted, weights=(0.25, 0.25, 0.25, 0.25)))\n",
    "\n",
    "# load model\n",
    "model = load_model('model.h5')\n",
    "# test on some training sequences\n",
    "print('train')\n",
    "evaluate_model(model, tokenizer, trainX, train)\n",
    "# test on some test sequences\n",
    "print('test')\n",
    "evaluate_model(model, tokenizer, testX, test)"
   ]
  },
  {
   "cell_type": "code",
   "execution_count": 11,
   "metadata": {},
   "outputs": [],
   "source": []
  },
  {
   "cell_type": "code",
   "execution_count": 14,
   "metadata": {},
   "outputs": [
    {
     "name": "stdout",
     "output_type": "stream",
     "text": [
      "(91, 401)\n"
     ]
    },
    {
     "data": {
      "text/plain": [
       "'you are'"
      ]
     },
     "execution_count": 14,
     "metadata": {},
     "output_type": "execute_result"
    }
   ],
   "source": [
    "t = ['I am depressed']\n",
    "source = encode_sequences(tokenizer, 45, t)\n",
    "prediction = model.predict(source, verbose=0)[0]\n",
    "print(prediction.shape)\n",
    "integers = [argmax(vector) for vector in prediction]\n",
    "target = list()\n",
    "for i in integers:\n",
    "    word = word_for_id(i, tokenizer)\n",
    "    if word is None:\n",
    "        break\n",
    "    target.append(word)\n",
    "' '.join(target)"
   ]
  },
  {
   "cell_type": "code",
   "execution_count": null,
   "metadata": {},
   "outputs": [],
   "source": []
  },
  {
   "cell_type": "code",
   "execution_count": null,
   "metadata": {},
   "outputs": [],
   "source": []
  },
  {
   "cell_type": "markdown",
   "metadata": {},
   "source": [
    "## Questions"
   ]
  },
  {
   "cell_type": "markdown",
   "metadata": {},
   "source": [
    "### How much effort is put into data preparation vs. actually training and evaluating the model?\n",
    "In the the tutorial that we followed, not too much effort was put into data preparation. Most of the effort was simply lowercasing, removing punctuation, removing non-printable characters, and removing numbers. We could do a lot more of data preparation by trying to lemmatize/stem, finding POS tags, getting the dependency parsing, and more. Training and evaluating the model takes the bulk of the effort in this tutorial, as we need to worry about how to create the model and using the BLEU score to evaluate it. \n",
    "\n",
    "### What constitutes the input features? What constitutes the top layer?\n",
    "The input features are made up of tokenized German words. Each word in an example is converted into an arbitrary list of numbers by the Keras Tokenizer. The output is also a list of tokenized words, but these words are in English and then they are also one-hot encoded so they work with the softmax in the model. \n",
    "\n",
    "### What does it mean that this is a \"generative\" classifier? How is that different from a discriminative classifier?\n",
    "A generative classifier creates output based on both the input data and the previous outputs of the model. This is necessary for our LSTM because it has to generate word w based on word w-1, which it also predicted. A discriminative classifer generates output only based on the input data, and \n",
    "\n",
    "### How do you know your model works? What does a BLEU metric tell you? Can you think of a better way to evaluate MT output?\n",
    "I know that my model works based on the BLEU metrics. This metric tells me how closely the predicted translation matches the target translation. This is not an exact match score, but it gives credit for a translation that is mostly the same. The higher the BLEU score, the better the predicted translation matches the target translation. There are different BLEU metrics for the different n-grams (BLEU-1, BLEU-2, etc). "
   ]
  },
  {
   "cell_type": "code",
   "execution_count": 5,
   "metadata": {},
   "outputs": [
    {
     "name": "stdout",
     "output_type": "stream",
     "text": [
      "=====================================================================\n",
      "Assignment: A8 Machine Translation with Keras\n",
      "OK, version v1.13.11\n",
      "=====================================================================\n",
      "\n",
      "Successfully logged in as DanieleMoro@u.boisestate.edu\n"
     ]
    }
   ],
   "source": [
    "from client.api.notebook import Notebook\n",
    "ok = Notebook('a8.ok')\n",
    "ok.auth(inline=True)"
   ]
  },
  {
   "cell_type": "code",
   "execution_count": 6,
   "metadata": {},
   "outputs": [
    {
     "data": {
      "application/javascript": [
       "IPython.notebook.save_checkpoint();"
      ],
      "text/plain": [
       "<IPython.core.display.Javascript object>"
      ]
     },
     "metadata": {},
     "output_type": "display_data"
    },
    {
     "data": {
      "application/javascript": [
       "IPython.notebook.save_notebook();"
      ],
      "text/plain": [
       "<IPython.core.display.Javascript object>"
      ]
     },
     "metadata": {},
     "output_type": "display_data"
    },
    {
     "name": "stdout",
     "output_type": "stream",
     "text": [
      "Saving notebook... Saved 'A8-machine-translation-keras.ipynb'.\n",
      "Submit... 0.0% complete\n",
      "Could not submit: Assignment does not exist\n",
      "\n"
     ]
    }
   ],
   "source": [
    "ok.submit()"
   ]
  },
  {
   "cell_type": "code",
   "execution_count": null,
   "metadata": {},
   "outputs": [],
   "source": []
  }
 ],
 "metadata": {
  "kernelspec": {
   "display_name": "Python 3",
   "language": "python",
   "name": "python3"
  },
  "language_info": {
   "codemirror_mode": {
    "name": "ipython",
    "version": 3
   },
   "file_extension": ".py",
   "mimetype": "text/x-python",
   "name": "python",
   "nbconvert_exporter": "python",
   "pygments_lexer": "ipython3",
   "version": "3.6.8"
  }
 },
 "nbformat": 4,
 "nbformat_minor": 2
}
