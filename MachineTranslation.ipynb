{
 "cells": [
  {
   "cell_type": "markdown",
   "metadata": {},
   "source": [
    "## Load and Clean Data"
   ]
  },
  {
   "cell_type": "code",
   "execution_count": 1,
   "metadata": {},
   "outputs": [],
   "source": [
    "import pickle"
   ]
  },
  {
   "cell_type": "code",
   "execution_count": 1,
   "metadata": {},
   "outputs": [
    {
     "name": "stderr",
     "output_type": "stream",
     "text": [
      "Using TensorFlow backend.\n"
     ]
    }
   ],
   "source": [
    "import pandas as pd\n",
    "import keras\n",
    "import numpy as np\n",
    "import matplotlib.pyplot as plt  "
   ]
  },
  {
   "cell_type": "code",
<<<<<<< HEAD
   "execution_count": 2,
=======
   "execution_count": 5,
>>>>>>> bab0298242c22bea06be9afa1db2a1c67aae66eb
   "metadata": {},
   "outputs": [],
   "source": [
    "reddit = pd.read_json(\"./data_1000.json\")"
   ]
  },
  {
   "cell_type": "code",
<<<<<<< HEAD
   "execution_count": 3,
=======
   "execution_count": 6,
>>>>>>> bab0298242c22bea06be9afa1db2a1c67aae66eb
   "metadata": {},
   "outputs": [],
   "source": [
    "reddit.comments = [x[:200] for x in reddit.comments]"
   ]
  },
  {
   "cell_type": "code",
<<<<<<< HEAD
   "execution_count": 4,
=======
   "execution_count": 7,
>>>>>>> bab0298242c22bea06be9afa1db2a1c67aae66eb
   "metadata": {},
   "outputs": [],
   "source": [
    "lst_col_ga = 'comments'\n",
    "\n",
    "df = reddit\n",
    "\n",
    "reddit = pd.DataFrame({\n",
    "     col:np.repeat(df[col].values, df[lst_col_ga].str.len())\n",
    "     for col in df.columns.drop(lst_col_ga)}\n",
    "   ).assign(**{lst_col_ga:np.concatenate(df[lst_col_ga].values)})[df.columns].dropna().reset_index(drop = True)"
   ]
  },
  {
   "cell_type": "code",
<<<<<<< HEAD
   "execution_count": 5,
=======
   "execution_count": 8,
>>>>>>> bab0298242c22bea06be9afa1db2a1c67aae66eb
   "metadata": {},
   "outputs": [],
   "source": [
    "reddit.comments = [x.replace(\"\\n\", '').replace(\"\\t\", '') for x in reddit.comments]\n",
    "reddit.title = [x.replace(\"\\n\", '').replace(\"\\t\", '') for x in reddit.title]"
   ]
  },
  {
   "cell_type": "code",
<<<<<<< HEAD
   "execution_count": 6,
   "metadata": {},
   "outputs": [],
   "source": [
    "reddit[['comments', 'title']].to_csv('reddit.csv', sep=\"\\t\", header=False, index=False)"
   ]
  },
  {
   "cell_type": "code",
   "execution_count": 7,
   "metadata": {},
   "outputs": [
    {
     "data": {
      "text/plain": [
       "27430"
      ]
     },
     "execution_count": 7,
     "metadata": {},
     "output_type": "execute_result"
    }
   ],
   "source": [
    "len(reddit.title)"
   ]
  },
  {
   "cell_type": "code",
   "execution_count": 8,
=======
   "execution_count": 9,
>>>>>>> bab0298242c22bea06be9afa1db2a1c67aae66eb
   "metadata": {},
   "outputs": [],
   "source": [
    "reddit.comments = [x[:200] for x in reddit.comments]\n",
    "reddit.title = [x[:200] for x in reddit.title]"
   ]
  },
  {
   "cell_type": "code",
<<<<<<< HEAD
   "execution_count": 9,
=======
   "execution_count": 10,
>>>>>>> bab0298242c22bea06be9afa1db2a1c67aae66eb
   "metadata": {
    "scrolled": true
   },
   "outputs": [
    {
     "data": {
      "text/plain": [
<<<<<<< HEAD
       "array([1423,   36,  263, ...,   24,  245,  190])"
      ]
     },
     "execution_count": 9,
=======
       "'Having a bad mental health day, not liking what I see in the mirror Really need some positive'"
      ]
     },
     "execution_count": 10,
>>>>>>> bab0298242c22bea06be9afa1db2a1c67aae66eb
     "metadata": {},
     "output_type": "execute_result"
    }
   ],
   "source": [
    "reddit.iloc[260][1]"
   ]
  },
  {
   "cell_type": "code",
<<<<<<< HEAD
   "execution_count": 10,
   "metadata": {},
   "outputs": [
    {
     "data": {
      "image/png": "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\n",
      "text/plain": [
       "<Figure size 432x288 with 1 Axes>"
      ]
     },
     "metadata": {
      "needs_background": "light"
     },
     "output_type": "display_data"
    }
   ],
=======
   "execution_count": 11,
   "metadata": {},
   "outputs": [],
>>>>>>> bab0298242c22bea06be9afa1db2a1c67aae66eb
   "source": [
    "reddit[['comments', 'title']].to_csv('reddit.csv', sep=\"\\t\", header=False, index=False)"
   ]
  },
  {
   "cell_type": "code",
<<<<<<< HEAD
   "execution_count": null,
   "metadata": {},
   "outputs": [],
   "source": []
  },
  {
   "cell_type": "code",
   "execution_count": null,
   "metadata": {
    "scrolled": true
   },
   "outputs": [],
   "source": []
  },
  {
   "cell_type": "code",
   "execution_count": null,
   "metadata": {},
   "outputs": [],
   "source": []
  },
  {
   "cell_type": "code",
   "execution_count": 11,
=======
   "execution_count": 12,
   "metadata": {},
   "outputs": [
    {
     "data": {
      "image/png": "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\n",
      "text/plain": [
       "<Figure size 432x288 with 1 Axes>"
      ]
     },
     "metadata": {},
     "output_type": "display_data"
    }
   ],
   "source": [
    "plt.hist([len(i) for i in reddit.title], bins=50)\n",
    "plt.show()"
   ]
  },
  {
   "cell_type": "code",
   "execution_count": 13,
   "metadata": {},
   "outputs": [
    {
     "data": {
      "image/png": "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\n",
      "text/plain": [
       "<Figure size 432x288 with 1 Axes>"
      ]
     },
     "metadata": {},
     "output_type": "display_data"
    }
   ],
   "source": [
    "plt.hist([len(i) for i in reddit.comments], bins=50)\n",
    "plt.show()"
   ]
  },
  {
   "cell_type": "code",
   "execution_count": 14,
   "metadata": {},
   "outputs": [
    {
     "data": {
      "text/plain": [
       "39446"
      ]
     },
     "execution_count": 14,
     "metadata": {},
     "output_type": "execute_result"
    }
   ],
   "source": [
    "len(reddit)"
   ]
  },
  {
   "cell_type": "code",
   "execution_count": 15,
   "metadata": {},
   "outputs": [
    {
     "ename": "NameError",
     "evalue": "name 'comm_len' is not defined",
     "output_type": "error",
     "traceback": [
      "\u001b[1;31m---------------------------------------------------------------------------\u001b[0m",
      "\u001b[1;31mNameError\u001b[0m                                 Traceback (most recent call last)",
      "\u001b[1;32m<ipython-input-15-c2485b71401b>\u001b[0m in \u001b[0;36m<module>\u001b[1;34m()\u001b[0m\n\u001b[1;32m----> 1\u001b[1;33m \u001b[0mplt\u001b[0m\u001b[1;33m.\u001b[0m\u001b[0mscatter\u001b[0m\u001b[1;33m(\u001b[0m\u001b[1;33m[\u001b[0m\u001b[0mi\u001b[0m \u001b[1;32mfor\u001b[0m \u001b[0mi\u001b[0m \u001b[1;32min\u001b[0m \u001b[0mrange\u001b[0m\u001b[1;33m(\u001b[0m\u001b[0mlen\u001b[0m\u001b[1;33m(\u001b[0m\u001b[0mcomm_len\u001b[0m\u001b[1;33m)\u001b[0m\u001b[1;33m)\u001b[0m\u001b[1;33m]\u001b[0m\u001b[1;33m,\u001b[0m \u001b[0mcomm_len\u001b[0m\u001b[1;33m)\u001b[0m\u001b[1;33m\u001b[0m\u001b[1;33m\u001b[0m\u001b[0m\n\u001b[0m",
      "\u001b[1;31mNameError\u001b[0m: name 'comm_len' is not defined"
     ]
    }
   ],
   "source": [
    "plt.scatter([i for i in range(len(comm_len))], comm_len)"
   ]
  },
  {
   "cell_type": "code",
   "execution_count": 16,
>>>>>>> bab0298242c22bea06be9afa1db2a1c67aae66eb
   "metadata": {
    "scrolled": true
   },
   "outputs": [
    {
     "name": "stdout",
     "output_type": "stream",
     "text": [
      "Saved: english-german.pkl\n",
<<<<<<< HEAD
      "[i dont even know what to say rtoastme community you have all blown my mind and touched my heart when i posted this i was just sharing little bit of myself and didnt expect much response cause there are others who deserve love and are going through tough timesi absolutely did not expect to have people share so much love with me i didnt expect so many to tell me that a smile and a story was helping them with tough times i didnt expect to switch between smiling until my cheeks hurt and shedding loving tears because of the absolute love that was sent my way a beautiful soul gifted me with a gold award another gifted me with a platinum award i never thought anyone would ever think i deserved such things because they cost real money to gift i am astonished to everyone who has upvotes this commented such beautiful compliments and so many who shared their own stories and pains and achievements thank you all so freaking much i am humbled beyond words by you all i love each and every one of you and pray for everyone who is struggling in their lives it can get better it truly can and i hope everyone has their chances to enjoy life no matter whatyall have blown me away and i originally posted this picture and story as a toastme but i really want to toast all of you thank you for this it made my birthday better than it could have been it made it my best birthday ever] => [i wanted to share a big milestone for me when i was deep in my depression for over a decade i had planned to disappear and quietly commit suicide at age i battled depression and found reasons to live today i turned and can now assure my past self that it does get better toast if you want]\n",
      "[happy birthday i love your smile] => [i wanted to share a big milestone for me when i was deep in my depression for over a decade i had planned to disappear and quietly commit suicide at age i battled depression and found reasons to live today i turned and can now assure my past self that it does get better toast if you want]\n",
      "[happy birthday congratulations on making it to this huge milestone you must be a very strong determined person to have overcome this depression is so hard to deal with and anyone who comes out alive is a hero in my books im sure glad youre still around] => [i wanted to share a big milestone for me when i was deep in my depression for over a decade i had planned to disappear and quietly commit suicide at age i battled depression and found reasons to live today i turned and can now assure my past self that it does get better toast if you want]\n",
      "[it makes me happy to see you smile after everything you went throughwell done] => [i wanted to share a big milestone for me when i was deep in my depression for over a decade i had planned to disappear and quietly commit suicide at age i battled depression and found reasons to live today i turned and can now assure my past self that it does get better toast if you want]\n",
      "[happy birthday im so glad that you are still here your smile looks like it could brighten a whole room] => [i wanted to share a big milestone for me when i was deep in my depression for over a decade i had planned to disappear and quietly commit suicide at age i battled depression and found reasons to live today i turned and can now assure my past self that it does get better toast if you want]\n",
      "[happy birthday im so glad you could make it i hope you enjoy those little things that didnt make sense before people look at his face if he could make it you can this is important] => [i wanted to share a big milestone for me when i was deep in my depression for over a decade i had planned to disappear and quietly commit suicide at age i battled depression and found reasons to live today i turned and can now assure my past self that it does get better toast if you want]\n",
      "[happy birthday and congratulations for living a year longer than you thought you set a new record for yourself and i hope you set many more your smile is infectious your eyes beautiful and your beard a healthy level of bushy which i appreciate] => [i wanted to share a big milestone for me when i was deep in my depression for over a decade i had planned to disappear and quietly commit suicide at age i battled depression and found reasons to live today i turned and can now assure my past self that it does get better toast if you want]\n",
      "[hooray and many happy returns on a milestone day you are an awesome bloke and have got through such adversity that we are incredibly lucky to have someone so vibrant as part of our communitystay being amazing] => [i wanted to share a big milestone for me when i was deep in my depression for over a decade i had planned to disappear and quietly commit suicide at age i battled depression and found reasons to live today i turned and can now assure my past self that it does get better toast if you want]\n",
      "[thats awesome to hear im glad youre still alive and kept fighting happy birthday i wish you the best] => [i wanted to share a big milestone for me when i was deep in my depression for over a decade i had planned to disappear and quietly commit suicide at age i battled depression and found reasons to live today i turned and can now assure my past self that it does get better toast if you want]\n",
      "[happy birthday your smile is super contagious] => [i wanted to share a big milestone for me when i was deep in my depression for over a decade i had planned to disappear and quietly commit suicide at age i battled depression and found reasons to live today i turned and can now assure my past self that it does get better toast if you want]\n",
      "[youre such an awesome dude happy birthday man] => [i wanted to share a big milestone for me when i was deep in my depression for over a decade i had planned to disappear and quietly commit suicide at age i battled depression and found reasons to live today i turned and can now assure my past self that it does get better toast if you want]\n",
      "[hey hey hey buddy beautiful post and an even lovely attitude big hug on deciding to be in charge of your life and working every step to get where you are cheers on your bday and a toast to you from here in india rock on brother i hope you decide to have even bigger goals and smash em] => [i wanted to share a big milestone for me when i was deep in my depression for over a decade i had planned to disappear and quietly commit suicide at age i battled depression and found reasons to live today i turned and can now assure my past self that it does get better toast if you want]\n",
      "[wait wait hold up ref you actually found that strength to keep the fuck going hot damn son thats definite calls for celebration i love you i dont care how far away you are or how much i dont know you personally youre awesome because youve committed to a brilliant feat and im so fucking proud of you] => [i wanted to share a big milestone for me when i was deep in my depression for over a decade i had planned to disappear and quietly commit suicide at age i battled depression and found reasons to live today i turned and can now assure my past self that it does get better toast if you want]\n",
      "[this is amazing dude happy birthday im so glad youve discovered the light after such a dark time you are amazing and so so valuable im glad youre alive and sharing that smile with us today] => [i wanted to share a big milestone for me when i was deep in my depression for over a decade i had planned to disappear and quietly commit suicide at age i battled depression and found reasons to live today i turned and can now assure my past self that it does get better toast if you want]\n",
      "[hell yeah this gives me hope] => [i wanted to share a big milestone for me when i was deep in my depression for over a decade i had planned to disappear and quietly commit suicide at age i battled depression and found reasons to live today i turned and can now assure my past self that it does get better toast if you want]\n",
      "[happy birthday dude you did it im proud of you] => [i wanted to share a big milestone for me when i was deep in my depression for over a decade i had planned to disappear and quietly commit suicide at age i battled depression and found reasons to live today i turned and can now assure my past self that it does get better toast if you want]\n",
      "[happy birthday congratulations and keep on smiling] => [i wanted to share a big milestone for me when i was deep in my depression for over a decade i had planned to disappear and quietly commit suicide at age i battled depression and found reasons to live today i turned and can now assure my past self that it does get better toast if you want]\n",
      "[yesss i am so glad you are able to share your achievement with us happy birthday] => [i wanted to share a big milestone for me when i was deep in my depression for over a decade i had planned to disappear and quietly commit suicide at age i battled depression and found reasons to live today i turned and can now assure my past self that it does get better toast if you want]\n",
      "[happy birthday hope you have a great day what an infectious smile] => [i wanted to share a big milestone for me when i was deep in my depression for over a decade i had planned to disappear and quietly commit suicide at age i battled depression and found reasons to live today i turned and can now assure my past self that it does get better toast if you want]\n",
      "[your smile is contagious happy birthday i hope everything works out as you wish it does] => [i wanted to share a big milestone for me when i was deep in my depression for over a decade i had planned to disappear and quietly commit suicide at age i battled depression and found reasons to live today i turned and can now assure my past self that it does get better toast if you want]\n",
      "[love that megawatt smile happy birthday mate keep smiling] => [i wanted to share a big milestone for me when i was deep in my depression for over a decade i had planned to disappear and quietly commit suicide at age i battled depression and found reasons to live today i turned and can now assure my past self that it does get better toast if you want]\n",
      "[looks great on you and i have no doubt that will look even better glad we get to celebrate with you] => [i wanted to share a big milestone for me when i was deep in my depression for over a decade i had planned to disappear and quietly commit suicide at age i battled depression and found reasons to live today i turned and can now assure my past self that it does get better toast if you want]\n",
      "[wish we could see more of that beard it looks glorious] => [i wanted to share a big milestone for me when i was deep in my depression for over a decade i had planned to disappear and quietly commit suicide at age i battled depression and found reasons to live today i turned and can now assure my past self that it does get better toast if you want]\n",
      "[happy birthday toast stories like yours give me strength and hope for the future] => [i wanted to share a big milestone for me when i was deep in my depression for over a decade i had planned to disappear and quietly commit suicide at age i battled depression and found reasons to live today i turned and can now assure my past self that it does get better toast if you want]\n",
      "[glad youre here with us friend thanks for including all of us in your birthday celebration and dont forget about us for] => [i wanted to share a big milestone for me when i was deep in my depression for over a decade i had planned to disappear and quietly commit suicide at age i battled depression and found reasons to live today i turned and can now assure my past self that it does get better toast if you want]\n",
      "[i almost lost my best friend to suicide so its awesome to see that someone else won the battle there will always be people who deeply care about you and keep that genuine smile its gonna get you through the toughest of times] => [i wanted to share a big milestone for me when i was deep in my depression for over a decade i had planned to disappear and quietly commit suicide at age i battled depression and found reasons to live today i turned and can now assure my past self that it does get better toast if you want]\n",
      "[you are such a bright loving and happy soul im happy to see you thriving and doing so well it absolutely does get better and warriors like you are proof of it seeing your smile and hearing you share a piece of your story made my night may your life be filled with plenty of abundance and happiness] => [i wanted to share a big milestone for me when i was deep in my depression for over a decade i had planned to disappear and quietly commit suicide at age i battled depression and found reasons to live today i turned and can now assure my past self that it does get better toast if you want]\n",
      "[dude you look so genuinely happy and that shit is contagiouscongratulations on finding reasons to live and walking yourself into a better life no one else did that thats all you im in a similar place just recently hitting one year sober after i hit my bottom and planned some dark things i dont have the balls to make a public post like this at all be proud of yourself mate keep kicking butt edit how rude of me happy birthday] => [i wanted to share a big milestone for me when i was deep in my depression for over a decade i had planned to disappear and quietly commit suicide at age i battled depression and found reasons to live today i turned and can now assure my past self that it does get better toast if you want]\n",
      "[this is awesome im so happy for you happy birthday] => [i wanted to share a big milestone for me when i was deep in my depression for over a decade i had planned to disappear and quietly commit suicide at age i battled depression and found reasons to live today i turned and can now assure my past self that it does get better toast if you want]\n",
      "[happy birthday thats amazing im so glad youre still around] => [i wanted to share a big milestone for me when i was deep in my depression for over a decade i had planned to disappear and quietly commit suicide at age i battled depression and found reasons to live today i turned and can now assure my past self that it does get better toast if you want]\n",
      "[happy birthday i think the phrase life begins at has special meaning with you so i hope you enjoy every moment] => [i wanted to share a big milestone for me when i was deep in my depression for over a decade i had planned to disappear and quietly commit suicide at age i battled depression and found reasons to live today i turned and can now assure my past self that it does get better toast if you want]\n",
      "[happy birthday and congratulations on your bravery and determination so happy for you] => [i wanted to share a big milestone for me when i was deep in my depression for over a decade i had planned to disappear and quietly commit suicide at age i battled depression and found reasons to live today i turned and can now assure my past self that it does get better toast if you want]\n",
      "[look at yourself what a strong person you are youre great and powerful and you should celebrate the biggest party ever its so lovely how happy you look be proud of yourself you won the fight and the whole community is celebrating you] => [i wanted to share a big milestone for me when i was deep in my depression for over a decade i had planned to disappear and quietly commit suicide at age i battled depression and found reasons to live today i turned and can now assure my past self that it does get better toast if you want]\n",
      "[honestly good on you good on you to the moon and back you deserve as much happiness as you want and nobody should ever stop you goodluck man] => [i wanted to share a big milestone for me when i was deep in my depression for over a decade i had planned to disappear and quietly commit suicide at age i battled depression and found reasons to live today i turned and can now assure my past self that it does get better toast if you want]\n",
      "[im a happy go lucky kind of person ive been through shit and always came out clean on the other side i have no idea what depression feels like but i know from family what it can do seeing the pure happiness in your eyes is such a heart warming sight] => [i wanted to share a big milestone for me when i was deep in my depression for over a decade i had planned to disappear and quietly commit suicide at age i battled depression and found reasons to live today i turned and can now assure my past self that it does get better toast if you want]\n",
      "[legend] => [i wanted to share a big milestone for me when i was deep in my depression for over a decade i had planned to disappear and quietly commit suicide at age i battled depression and found reasons to live today i turned and can now assure my past self that it does get better toast if you want]\n",
      "[happy birthday and i really love your smile] => [i wanted to share a big milestone for me when i was deep in my depression for over a decade i had planned to disappear and quietly commit suicide at age i battled depression and found reasons to live today i turned and can now assure my past self that it does get better toast if you want]\n",
      "[you are a survivor my man you decided to see whats hiding in your future and trust me since you have the opportunity to live to tell and remember knowing stuff is power the rest is extraim proud of you even if i will never will have the honor to shake your hand and hug you] => [i wanted to share a big milestone for me when i was deep in my depression for over a decade i had planned to disappear and quietly commit suicide at age i battled depression and found reasons to live today i turned and can now assure my past self that it does get better toast if you want]\n",
      "[you are amazing all the best] => [i wanted to share a big milestone for me when i was deep in my depression for over a decade i had planned to disappear and quietly commit suicide at age i battled depression and found reasons to live today i turned and can now assure my past self that it does get better toast if you want]\n",
      "[happy birthday its so reassuring to know that one can get out of that dreaded mental pit even after so longmay your story provide strength to lots of people who find themselves trapped in depression] => [i wanted to share a big milestone for me when i was deep in my depression for over a decade i had planned to disappear and quietly commit suicide at age i battled depression and found reasons to live today i turned and can now assure my past self that it does get better toast if you want]\n",
      "[dude i like what i see on my screen right now you look like a really nice and gentle guy with really kind eyes here is a list of things i really like about you know how to prepare a mean charcuterie board you seem to be a very thoughtful and intelligent guy you seem to have a great sense of humour you absolutely rock that beard you love pirates you love found out about your existence minutes ago and i already found so many things to like about you and im damn sure that i would fine more reasons to like you if i knew you a bit better stay strong my dude and never forget that youre awesome and important] => [having a bad mental health day not liking what i see in the mirror really need some positive]\n",
      "[takes courage to post stuff on reddit your courage is giving me courage so thank you sending positive vibes your wayand ill quote one of my favorite stoic quotes i judge you unfortunate because you have never lived through misfortune you have passed through life without an opponentno one can ever know what you are capable of not even you seneca] => [having a bad mental health day not liking what i see in the mirror really need some positive]\n",
      "[you have very kind eyes use that kindness but do your best to save some of it for yourself] => [having a bad mental health day not liking what i see in the mirror really need some positive]\n",
      "[you look like you could make some awesome pancakes my dude] => [having a bad mental health day not liking what i see in the mirror really need some positive]\n",
      "[you are worthy of love happiness and peace even if you cant yet see it sending you positive vibes and reminding you that you will get through this day its tough out here try and be kind to yourself as you truly deserve it] => [having a bad mental health day not liking what i see in the mirror really need some positive]\n",
      "[not gonna lie this is probably my favorite pic on this sub people like this guy make me want to suggest we have like a massive hang out like at a beach or something to chill in a massive tiki hut with like hawaiian bbq or something oh man oh man like an oktoberfest in helens ga but at the beachwe could do like daytona or something boardwalk and ocean by day night time is dance tiki torches and massive hammocks where we talk about stuff that bothers us and stuff that helps were reddit crowd so you know people are going to have quick quips quick quips and pineapples by the bonfire oh dang grilled pineappleyo mods we need to do thishow big do black light bulbs get would we be able to do a couple beach volleyball courts with neon and black lighting and pineappleby the fire] => [having a bad mental health day not liking what i see in the mirror really need some positive]\n",
      "[you look like a cool dude to hang out with the kinda dude that has people always chuckling] => [having a bad mental health day not liking what i see in the mirror really need some positive]\n",
      "[bro what in the flip is there to not like in that mirror is it a big blur did you just get out of the shower or somethingyour hair lines are gahtdam perfect scalp and that beard line man thats some perfect beard line] => [having a bad mental health day not liking what i see in the mirror really need some positive]\n",
      "[without wanting to sound weird you have stunning eyes i could look into for hours theyre just perfectthe rest of your face is damn good looking too but those eyestomorrows another day it doesnt have to be perfect but it is a whole new start be kind to yourself] => [having a bad mental health day not liking what i see in the mirror really need some positive]\n",
      "[did a little digging and i know for a fact you are strong you have been through so much already and can pull through again and again no doubt those kind eyes have been subject to many trials but when push comes to shove you have such great compassion know that you are worth the happiness that you grant others chin up friend youve got this] => [having a bad mental health day not liking what i see in the mirror really need some positive]\n",
      "[bad mental health days dont last think of it as a storm passing entrance it and know it will be over you rock a bad ass beard my dude looking good] => [having a bad mental health day not liking what i see in the mirror really need some positive]\n",
      "[keep your chin up babe take it day by day make sure to do something you enjoy todayall the best x] => [having a bad mental health day not liking what i see in the mirror really need some positive]\n",
      "[you have a kind handsome face mental health really can suck the life out of us i know that feeling but dont let the voice inside your head win you are worth more than that] => [having a bad mental health day not liking what i see in the mirror really need some positive]\n",
      "[i really like your face there is a gentleness and soulfulness about you that makes me feel calm inside it takes a lot of courage on days like today to be a good friend and a source of refuge to yourself luckily you have all the courage and love necessary to not only be kind to yourself but also to shower others with your openhearted kindness as well i know that its not easy to take what people say about you seriously on the internet but i promise with all the sincerity i can muster that i believe in you man my name is justin and youll always have a friend in me hug] => [having a bad mental health day not liking what i see in the mirror really need some positive]\n",
      "[i dont know you but your face has a certain warmth to it you just seem like a trustworthy actually decent dude and reading the comments everyone seems to agree plus you rock a beard not a feat everyone can claim] => [having a bad mental health day not liking what i see in the mirror really need some positive]\n",
      "[oh my gosh i can literally feel your tender spirit and empathy through the screen it would be an understatement to say my dad is not physically well and i have been on the verge of crying for weeks your eyes give me such a sense on peace and understanding thank you for just being you and remember this too shall pass you are worth it and make a difference in the lives of those around you] => [having a bad mental health day not liking what i see in the mirror really need some positive]\n",
      "[you look so easy to approach you seem really sweet] => [having a bad mental health day not liking what i see in the mirror really need some positive]\n",
      "[you look like you would give killer hugs love your eyes too i get the feeling i could listen to you for a long time i bet you have some stories to tell] => [having a bad mental health day not liking what i see in the mirror really need some positive]\n",
      "[your beautiful and your eyes are breath taking i swear i just felt my heart skip a beat] => [having a bad mental health day not liking what i see in the mirror really need some positive]\n",
      "[well shoot i think youre pretty handsome and kind looking may sound silly but try making a little lists of your good qualities and other little things u appreciate rn no matter how small its okay to not feel okay u are loved and supported] => [having a bad mental health day not liking what i see in the mirror really need some positive]\n",
      "[you have great eyes my immediate impression was seems like a super kind chilled dude who i would love to hang out with and that charcuterie board watching the hobbit yeah thats my kind of night in too man hope you have find a so who enjoys it all the same you most definitely deserve to be happy] => [having a bad mental health day not liking what i see in the mirror really need some positive]\n",
      "[you have really nice eyes and a kind face but not the annoying kind face rather the i want you ob my team kind face] => [having a bad mental health day not liking what i see in the mirror really need some positive]\n",
      "[you are undefeated king] => [having a bad mental health day not liking what i see in the mirror really need some positive]\n",
      "[you look like you give excellent hugs] => [having a bad mental health day not liking what i see in the mirror really need some positive]\n",
      "[all we can do is our best giving you a virtual hug hang in there my friend] => [having a bad mental health day not liking what i see in the mirror really need some positive]\n",
      "[hello im really sorry to hear youre having a bad mental health day but for what its worth this internet stranger thinks you have very kind eyes and she hopes your day picks up for you] => [having a bad mental health day not liking what i see in the mirror really need some positive]\n",
      "[you are a good looking guy with a lot of potential in that beard so ill guess this isnt physically motivated maybe you just need someone to talk to either way it gets better and you look like a survivor id love to have a friend like you so keep your head up] => [having a bad mental health day not liking what i see in the mirror really need some positive]\n",
      "[you might not like what you see in the mirror but i definitely like what i see your skin looks so good i hope it gets better for you so you can smile again] => [having a bad mental health day not liking what i see in the mirror really need some positive]\n",
      "[friend your eyes arent telling you the truth right now i see a kind faced gentleman with deep knowing eyes a very good friend of mine reminds me when im struggling depression lies itd really damned hard to navigate life when you cant trust what your own mind is telling you good on you for seeking some perspective] => [having a bad mental health day not liking what i see in the mirror really need some positive]\n",
      "[you have these nice puppydoglike eyes you have an amazing afroyou look like a genuinely nice person who would probably donate to charities] => [having a bad mental health day not liking what i see in the mirror really need some positive]\n",
      "[i like your shirt] => [having a bad mental health day not liking what i see in the mirror really need some positive]\n",
      "[you look like the type that i could have infinite amounts of conversations on our thoughts and beliefs while maintaining mutual respect for one another difference in opinions something that i wish i could see in more people these days keep your head up brother many of us go through the same types of days we just have to lift each other up take it easy man] => [having a bad mental health day not liking what i see in the mirror really need some positive]\n",
      "[i would try to say something funny and that says a lot because my english is not even all that thats how down to earth you seem to me] => [having a bad mental health day not liking what i see in the mirror really need some positive]\n",
      "[dude you are rocking that beard for a start props to a fellow beardy broand hey look at you being open enough to admit youre not ok and asking for a little help i know how hard that is myself which puts you a fair way ahead of quite a few guys] => [having a bad mental health day not liking what i see in the mirror really need some positive]\n",
      "[youre here and thats a start glad you reached out that says a lot about you proud of you for starting there also my phone wanted me to post the avocado emoji twice for no reason so here it is] => [having a bad mental health day not liking what i see in the mirror really need some positive]\n",
      "[you have the nicest eyes its easy to see youre a gentle soul im in to that orange shirt its my favorite color and it looks good on you your beard and hair rock i like what i see hugs to you and i hope things get better for you] => [having a bad mental health day not liking what i see in the mirror really need some positive]\n",
      "[i would love to hang out with you you have the nicest eyes and youre very handsome rocking that beard take care pal stay cool] => [having a bad mental health day not liking what i see in the mirror really need some positive]\n",
      "[i like your handwriting and everything everyones has said i agreed with before i read them] => [having a bad mental health day not liking what i see in the mirror really need some positive]\n",
      "[truth be told none of us really like what we see in the mirror that includes that girl or guy you think is absolutely perfect in every single way you only see them as perfect because you dont see their flaws just like how not everyone may see the flaws that you see in yourself assuming the flaws you see are flaws at all remember comparison is the thief of joy] => [having a bad mental health day not liking what i see in the mirror really need some positive]\n",
      "[you might need a new mirror because what im seeing looks like a good dude someone id like to drink a beer or play xbox with or both] => [having a bad mental health day not liking what i see in the mirror really need some positive]\n",
      "[youre beautiful really very beautiful] => [lost my hair and my breasts to cancer last year have a hard time feeling feminine now this week has been particularly hard and i feel really alone would appreciate a light toasting]\n",
      "[you remind me of annie lennox she is badass and confident and that to me is hot i see the same in you go forward and rock the day] => [lost my hair and my breasts to cancer last year have a hard time feeling feminine now this week has been particularly hard and i feel really alone would appreciate a light toasting]\n",
      "[in a black dress youd look like a neoaudrey hepburn about as feminine as they come] => [lost my hair and my breasts to cancer last year have a hard time feeling feminine now this week has been particularly hard and i feel really alone would appreciate a light toasting]\n",
      "[im an oncology rn i am thankful you are here may you find hope amidst the grief you are strong and you are a gift] => [lost my hair and my breasts to cancer last year have a hard time feeling feminine now this week has been particularly hard and i feel really alone would appreciate a light toasting]\n",
      "[you are absolutely unequivocally stunning your bone structure is enviable theres no question that youre feminine and youre strong bc youre still here and still keeping on keeping on i think youre amazing] => [lost my hair and my breasts to cancer last year have a hard time feeling feminine now this week has been particularly hard and i feel really alone would appreciate a light toasting]\n",
      "[just in case you ever feel like this again remember the sun will never see how beautiful it is to us you are amazing and dont let anyone tell you otherwise] => [lost my hair and my breasts to cancer last year have a hard time feeling feminine now this week has been particularly hard and i feel really alone would appreciate a light toasting]\n",
      "[you are pretty af tbh] => [lost my hair and my breasts to cancer last year have a hard time feeling feminine now this week has been particularly hard and i feel really alone would appreciate a light toasting]\n",
      "[your hair looks damn good short i like the septum ring a lot too good combo you look very feminine to me] => [lost my hair and my breasts to cancer last year have a hard time feeling feminine now this week has been particularly hard and i feel really alone would appreciate a light toasting]\n",
      "[your femininity can never be taken away from you not by a disease a person not anything you are you a beautiful young lady with so many years on this planet to shine as bright as you possibly can keep at it youre doing a great job] => [lost my hair and my breasts to cancer last year have a hard time feeling feminine now this week has been particularly hard and i feel really alone would appreciate a light toasting]\n",
      "[you have a wonderful face structure and mad makeup skills id be straight for u] => [lost my hair and my breasts to cancer last year have a hard time feeling feminine now this week has been particularly hard and i feel really alone would appreciate a light toasting]\n",
      "[you have the most beautiful eyes ive ever seen you look intelligent and enchanting high cheekbones makeup that enhances the gorgeous features already there your choice in clothing is feminine and sophisticated anyone would look at you and see a beautiful girl] => [lost my hair and my breasts to cancer last year have a hard time feeling feminine now this week has been particularly hard and i feel really alone would appreciate a light toasting]\n",
      "[honestly not usually a fan of short hair on most girls but you really pull it off shows how gorgeous your eyes are also your brows are amazing keep on fighting beautiful youre so much stronger than this] => [lost my hair and my breasts to cancer last year have a hard time feeling feminine now this week has been particularly hard and i feel really alone would appreciate a light toasting]\n",
      "[some people might not think rosie the riveter seems feminine but to a lot of people shes feminine and a toughass chickwhat youve been throughyou sound like a toughass chick too congratulations on being stronger than everyone i know except my mother who also lost her hair and breasts to cancershe can probably beat up you and me and everyone else here with one arm tied behind her back as the others have pointed out though youre prettier than my mom sorry mom] => [lost my hair and my breasts to cancer last year have a hard time feeling feminine now this week has been particularly hard and i feel really alone would appreciate a light toasting]\n",
      "[although appearance isnt everything i too feel the same way very frequently i think you are attractive in a strong lasting sort of way and you have a talent with makeup you wont need a lot but you use it well] => [lost my hair and my breasts to cancer last year have a hard time feeling feminine now this week has been particularly hard and i feel really alone would appreciate a light toasting]\n",
      "[first look youre all woman read title okaysecond look nope was right the first timewell done and keep going] => [lost my hair and my breasts to cancer last year have a hard time feeling feminine now this week has been particularly hard and i feel really alone would appreciate a light toasting]\n",
      "[to others losing those physical features wont mean youve lost your femininity but im sorry youre struggling with this youre beautiful im a womanlovingwoman and i would never feel my partner was less feminine because her breasts were removed or she otherwise didnt have any femininity is what we make of it how we dress how we carry ourselves you definitely have the feminine vibe in this photograph] => [lost my hair and my breasts to cancer last year have a hard time feeling feminine now this week has been particularly hard and i feel really alone would appreciate a light toasting]\n",
      "[you are stunning] => [lost my hair and my breasts to cancer last year have a hard time feeling feminine now this week has been particularly hard and i feel really alone would appreciate a light toasting]\n",
      "[heres some light toast for you stay strong sending a virtual fist bump bump] => [lost my hair and my breasts to cancer last year have a hard time feeling feminine now this week has been particularly hard and i feel really alone would appreciate a light toasting]\n",
      "[youre the snack that fought back i have a few friends that have short hair like yours more a fashion choice than anything and theyre having some of the same feelings the people who say short hair isnt feminine obviously havent seen you youre feminimity isnt tied to your hair or your body its in how you express yourself and from everything i see your a strong beautiful woman who dont take no shit keep on doing you girl cuz the world needs a whole lot more of it] => [lost my hair and my breasts to cancer last year have a hard time feeling feminine now this week has been particularly hard and i feel really alone would appreciate a light toasting]\n",
      "[such stunning eyes youre a beautiful strong woman you are feminine even if you cant see it yet you are your body sometimes has to change in order to win the fight you are still so damn radiant and breathtakingi hope you have a great day] => [lost my hair and my breasts to cancer last year have a hard time feeling feminine now this week has been particularly hard and i feel really alone would appreciate a light toasting]\n"
=======
      "[i dont even know what to say rtoastme community you have all blown my mind and touched my heart when i posted this i was just sharing little bit of myself and didnt expect much response cause t] => [i wanted to share a big milestone for me when i was deep in my depression for over a decade i had planned to disappear and quietly commit suicide at age i battled depression and found reasons to]\n",
      "[happy birthday i love your smile] => [i wanted to share a big milestone for me when i was deep in my depression for over a decade i had planned to disappear and quietly commit suicide at age i battled depression and found reasons to]\n",
      "[happy birthday congratulations on making it to this huge milestone you must be a very strong determined person to have overcome this depression is so hard to deal with and anyone who comes out al] => [i wanted to share a big milestone for me when i was deep in my depression for over a decade i had planned to disappear and quietly commit suicide at age i battled depression and found reasons to]\n",
      "[it makes me happy to see you smile after everything you went throughwell done] => [i wanted to share a big milestone for me when i was deep in my depression for over a decade i had planned to disappear and quietly commit suicide at age i battled depression and found reasons to]\n",
      "[happy birthday im so glad that you are still here your smile looks like it could brighten a whole room] => [i wanted to share a big milestone for me when i was deep in my depression for over a decade i had planned to disappear and quietly commit suicide at age i battled depression and found reasons to]\n",
      "[happy birthday im so glad you could make it i hope you enjoy those little things that didnt make sense before people look at his face if he could make it you can this is important] => [i wanted to share a big milestone for me when i was deep in my depression for over a decade i had planned to disappear and quietly commit suicide at age i battled depression and found reasons to]\n",
      "[happy birthday and congratulations for living a year longer than you thought you set a new record for yourself and i hope you set many more your smile is infectious your eyes beautiful and your be] => [i wanted to share a big milestone for me when i was deep in my depression for over a decade i had planned to disappear and quietly commit suicide at age i battled depression and found reasons to]\n",
      "[hooray and many happy returns on a milestone day you are an awesome bloke and have got through such adversity that we are incredibly lucky to have someone so vibrant as part of our communitystay bei] => [i wanted to share a big milestone for me when i was deep in my depression for over a decade i had planned to disappear and quietly commit suicide at age i battled depression and found reasons to]\n",
      "[thats awesome to hear im glad youre still alive and kept fighting happy birthday i wish you the best] => [i wanted to share a big milestone for me when i was deep in my depression for over a decade i had planned to disappear and quietly commit suicide at age i battled depression and found reasons to]\n",
      "[happy birthday your smile is super contagious] => [i wanted to share a big milestone for me when i was deep in my depression for over a decade i had planned to disappear and quietly commit suicide at age i battled depression and found reasons to]\n",
      "[youre such an awesome dude happy birthday man] => [i wanted to share a big milestone for me when i was deep in my depression for over a decade i had planned to disappear and quietly commit suicide at age i battled depression and found reasons to]\n",
      "[hey hey hey buddy beautiful post and an even lovely attitude big hug on deciding to be in charge of your life and working every step to get where you are cheers on your bday and a toast to you fr] => [i wanted to share a big milestone for me when i was deep in my depression for over a decade i had planned to disappear and quietly commit suicide at age i battled depression and found reasons to]\n",
      "[wait wait hold up ref you actually found that strength to keep the fuck going hot damn son thats definite calls for celebration i love you i dont care how far away you are or how much i dont] => [i wanted to share a big milestone for me when i was deep in my depression for over a decade i had planned to disappear and quietly commit suicide at age i battled depression and found reasons to]\n",
      "[this is amazing dude happy birthday im so glad youve discovered the light after such a dark time you are amazing and so so valuable im glad youre alive and sharing that smile with us today] => [i wanted to share a big milestone for me when i was deep in my depression for over a decade i had planned to disappear and quietly commit suicide at age i battled depression and found reasons to]\n",
      "[hell yeah this gives me hope] => [i wanted to share a big milestone for me when i was deep in my depression for over a decade i had planned to disappear and quietly commit suicide at age i battled depression and found reasons to]\n",
      "[happy birthday dude you did it im proud of you] => [i wanted to share a big milestone for me when i was deep in my depression for over a decade i had planned to disappear and quietly commit suicide at age i battled depression and found reasons to]\n",
      "[happy birthday congratulations and keep on smiling] => [i wanted to share a big milestone for me when i was deep in my depression for over a decade i had planned to disappear and quietly commit suicide at age i battled depression and found reasons to]\n",
      "[yesss i am so glad you are able to share your achievement with us happy birthday] => [i wanted to share a big milestone for me when i was deep in my depression for over a decade i had planned to disappear and quietly commit suicide at age i battled depression and found reasons to]\n",
      "[happy birthday hope you have a great day what an infectious smile] => [i wanted to share a big milestone for me when i was deep in my depression for over a decade i had planned to disappear and quietly commit suicide at age i battled depression and found reasons to]\n",
      "[your smile is contagious happy birthday i hope everything works out as you wish it does] => [i wanted to share a big milestone for me when i was deep in my depression for over a decade i had planned to disappear and quietly commit suicide at age i battled depression and found reasons to]\n",
      "[love that megawatt smile happy birthday mate keep smiling] => [i wanted to share a big milestone for me when i was deep in my depression for over a decade i had planned to disappear and quietly commit suicide at age i battled depression and found reasons to]\n",
      "[looks great on you and i have no doubt that will look even better glad we get to celebrate with you] => [i wanted to share a big milestone for me when i was deep in my depression for over a decade i had planned to disappear and quietly commit suicide at age i battled depression and found reasons to]\n",
      "[wish we could see more of that beard it looks glorious] => [i wanted to share a big milestone for me when i was deep in my depression for over a decade i had planned to disappear and quietly commit suicide at age i battled depression and found reasons to]\n",
      "[happy birthday toast stories like yours give me strength and hope for the future] => [i wanted to share a big milestone for me when i was deep in my depression for over a decade i had planned to disappear and quietly commit suicide at age i battled depression and found reasons to]\n",
      "[glad youre here with us friend thanks for including all of us in your birthday celebration and dont forget about us for] => [i wanted to share a big milestone for me when i was deep in my depression for over a decade i had planned to disappear and quietly commit suicide at age i battled depression and found reasons to]\n",
      "[i almost lost my best friend to suicide so its awesome to see that someone else won the battle there will always be people who deeply care about you and keep that genuine smile its gonna get you] => [i wanted to share a big milestone for me when i was deep in my depression for over a decade i had planned to disappear and quietly commit suicide at age i battled depression and found reasons to]\n",
      "[you are such a bright loving and happy soul im happy to see you thriving and doing so well it absolutely does get better and warriors like you are proof of it seeing your smile and hearing you] => [i wanted to share a big milestone for me when i was deep in my depression for over a decade i had planned to disappear and quietly commit suicide at age i battled depression and found reasons to]\n",
      "[dude you look so genuinely happy and that shit is contagiouscongratulations on finding reasons to live and walking yourself into a better life no one else did that thats all you im in a similar] => [i wanted to share a big milestone for me when i was deep in my depression for over a decade i had planned to disappear and quietly commit suicide at age i battled depression and found reasons to]\n",
      "[this is awesome im so happy for you happy birthday] => [i wanted to share a big milestone for me when i was deep in my depression for over a decade i had planned to disappear and quietly commit suicide at age i battled depression and found reasons to]\n",
      "[happy birthday thats amazing im so glad youre still around] => [i wanted to share a big milestone for me when i was deep in my depression for over a decade i had planned to disappear and quietly commit suicide at age i battled depression and found reasons to]\n",
      "[happy birthday i think the phrase life begins at has special meaning with you so i hope you enjoy every moment] => [i wanted to share a big milestone for me when i was deep in my depression for over a decade i had planned to disappear and quietly commit suicide at age i battled depression and found reasons to]\n",
      "[happy birthday and congratulations on your bravery and determination so happy for you] => [i wanted to share a big milestone for me when i was deep in my depression for over a decade i had planned to disappear and quietly commit suicide at age i battled depression and found reasons to]\n",
      "[look at yourself what a strong person you are youre great and powerful and you should celebrate the biggest party ever its so lovely how happy you look be proud of yourself you won the fight and] => [i wanted to share a big milestone for me when i was deep in my depression for over a decade i had planned to disappear and quietly commit suicide at age i battled depression and found reasons to]\n",
      "[honestly good on you good on you to the moon and back you deserve as much happiness as you want and nobody should ever stop you goodluck man] => [i wanted to share a big milestone for me when i was deep in my depression for over a decade i had planned to disappear and quietly commit suicide at age i battled depression and found reasons to]\n",
      "[im a happy go lucky kind of person ive been through shit and always came out clean on the other side i have no idea what depression feels like but i know from family what it can do seeing the pu] => [i wanted to share a big milestone for me when i was deep in my depression for over a decade i had planned to disappear and quietly commit suicide at age i battled depression and found reasons to]\n",
      "[legend] => [i wanted to share a big milestone for me when i was deep in my depression for over a decade i had planned to disappear and quietly commit suicide at age i battled depression and found reasons to]\n",
      "[happy birthday and i really love your smile] => [i wanted to share a big milestone for me when i was deep in my depression for over a decade i had planned to disappear and quietly commit suicide at age i battled depression and found reasons to]\n",
      "[you are a survivor my man you decided to see whats hiding in your future and trust me since you have the opportunity to live to tell and remember knowing stuff is power the rest is extraim p] => [i wanted to share a big milestone for me when i was deep in my depression for over a decade i had planned to disappear and quietly commit suicide at age i battled depression and found reasons to]\n",
      "[you are amazing all the best] => [i wanted to share a big milestone for me when i was deep in my depression for over a decade i had planned to disappear and quietly commit suicide at age i battled depression and found reasons to]\n",
      "[happy birthday its so reassuring to know that one can get out of that dreaded mental pit even after so longmay your story provide strength to lots of people who find themselves trapped in depressio] => [i wanted to share a big milestone for me when i was deep in my depression for over a decade i had planned to disappear and quietly commit suicide at age i battled depression and found reasons to]\n",
      "[happy birthday well done on sticking around] => [i wanted to share a big milestone for me when i was deep in my depression for over a decade i had planned to disappear and quietly commit suicide at age i battled depression and found reasons to]\n",
      "[the world is definitely better off that that goofy fun smile is still with us] => [i wanted to share a big milestone for me when i was deep in my depression for over a decade i had planned to disappear and quietly commit suicide at age i battled depression and found reasons to]\n",
      "[were all so happy youre still here man heres to another happy years] => [i wanted to share a big milestone for me when i was deep in my depression for over a decade i had planned to disappear and quietly commit suicide at age i battled depression and found reasons to]\n",
      "[idk why im crying in the club rn] => [i wanted to share a big milestone for me when i was deep in my depression for over a decade i had planned to disappear and quietly commit suicide at age i battled depression and found reasons to]\n",
      "[i was in the same place almost exactly a year ago i was ready to kill myself i spent most of my days thinking of what the best time place and method was that i could do it quickly and quietly with] => [i wanted to share a big milestone for me when i was deep in my depression for over a decade i had planned to disappear and quietly commit suicide at age i battled depression and found reasons to]\n",
      "[happy birthday i feel like you just toasted us somehow thanks for the positive message] => [i wanted to share a big milestone for me when i was deep in my depression for over a decade i had planned to disappear and quietly commit suicide at age i battled depression and found reasons to]\n",
      "[hell yeah brother] => [i wanted to share a big milestone for me when i was deep in my depression for over a decade i had planned to disappear and quietly commit suicide at age i battled depression and found reasons to]\n",
      "[helsinky is that you congrats sir on overcoming the challenges and a have a great cakeday] => [i wanted to share a big milestone for me when i was deep in my depression for over a decade i had planned to disappear and quietly commit suicide at age i battled depression and found reasons to]\n",
      "[happy birthday dude you deserve this hopefully there will be many more have a great day and keep the positivity alive] => [i wanted to share a big milestone for me when i was deep in my depression for over a decade i had planned to disappear and quietly commit suicide at age i battled depression and found reasons to]\n",
      "[happy birthday handsome] => [i wanted to share a big milestone for me when i was deep in my depression for over a decade i had planned to disappear and quietly commit suicide at age i battled depression and found reasons to]\n",
      "[happy birthday keep smiling] => [i wanted to share a big milestone for me when i was deep in my depression for over a decade i had planned to disappear and quietly commit suicide at age i battled depression and found reasons to]\n",
      "[happy birthday way to go man] => [i wanted to share a big milestone for me when i was deep in my depression for over a decade i had planned to disappear and quietly commit suicide at age i battled depression and found reasons to]\n",
      "[happy birthday its tough to carry on when its rough but you did it] => [i wanted to share a big milestone for me when i was deep in my depression for over a decade i had planned to disappear and quietly commit suicide at age i battled depression and found reasons to]\n",
      "[im have been going through a very tough period my life got ghosted by a closefriend a year back and so many others and your post is the reason for my smile todayi need to believe that kindness exi] => [i wanted to share a big milestone for me when i was deep in my depression for over a decade i had planned to disappear and quietly commit suicide at age i battled depression and found reasons to]\n",
      "[happy birthday it makes me so happy knowing about people getting better with this keep it up] => [i wanted to share a big milestone for me when i was deep in my depression for over a decade i had planned to disappear and quietly commit suicide at age i battled depression and found reasons to]\n",
      "[glad youre still with us heres to another more] => [i wanted to share a big milestone for me when i was deep in my depression for over a decade i had planned to disappear and quietly commit suicide at age i battled depression and found reasons to]\n",
      "[happy birthday and congratu fuckin lations for getting better im proud of you] => [i wanted to share a big milestone for me when i was deep in my depression for over a decade i had planned to disappear and quietly commit suicide at age i battled depression and found reasons to]\n",
      "[happy birthday you resilient bastid proud of you for your hard work] => [i wanted to share a big milestone for me when i was deep in my depression for over a decade i had planned to disappear and quietly commit suicide at age i battled depression and found reasons to]\n",
      "[happy birthday and im proud of you mate hope you are too] => [i wanted to share a big milestone for me when i was deep in my depression for over a decade i had planned to disappear and quietly commit suicide at age i battled depression and found reasons to]\n",
      "[glad you made it through happy birthday] => [i wanted to share a big milestone for me when i was deep in my depression for over a decade i had planned to disappear and quietly commit suicide at age i battled depression and found reasons to]\n",
      "[happy birthday i hope things get better and better for you] => [i wanted to share a big milestone for me when i was deep in my depression for over a decade i had planned to disappear and quietly commit suicide at age i battled depression and found reasons to]\n",
      "[you have warmed my hearti am so happy for youi am so happy you can now look back and see how far you have comebless you] => [i wanted to share a big milestone for me when i was deep in my depression for over a decade i had planned to disappear and quietly commit suicide at age i battled depression and found reasons to]\n",
      "[happy birthday man youre only once so enjoy it] => [i wanted to share a big milestone for me when i was deep in my depression for over a decade i had planned to disappear and quietly commit suicide at age i battled depression and found reasons to]\n",
      "[happy birthday charles heres to another years my dude] => [i wanted to share a big milestone for me when i was deep in my depression for over a decade i had planned to disappear and quietly commit suicide at age i battled depression and found reasons to]\n",
      "[you have such a beautiful face man have a very happy birthday cheers] => [i wanted to share a big milestone for me when i was deep in my depression for over a decade i had planned to disappear and quietly commit suicide at age i battled depression and found reasons to]\n",
      "[all the toast to you friend and cheers to the many happy years ahead] => [i wanted to share a big milestone for me when i was deep in my depression for over a decade i had planned to disappear and quietly commit suicide at age i battled depression and found reasons to]\n",
      "[glad youre here man happy birthday to the rest of your life] => [i wanted to share a big milestone for me when i was deep in my depression for over a decade i had planned to disappear and quietly commit suicide at age i battled depression and found reasons to]\n",
      "[happy birthday] => [i wanted to share a big milestone for me when i was deep in my depression for over a decade i had planned to disappear and quietly commit suicide at age i battled depression and found reasons to]\n",
      "[man im about to finish my and they have been a real pain most of the time i see why theyre called the yearning years hopefully my will live up to the earning years moniker im glad] => [i wanted to share a big milestone for me when i was deep in my depression for over a decade i had planned to disappear and quietly commit suicide at age i battled depression and found reasons to]\n",
      "[this is the happiest smile i think ive ever seen i dont know how else to put it it just draws my attention completely] => [i wanted to share a big milestone for me when i was deep in my depression for over a decade i had planned to disappear and quietly commit suicide at age i battled depression and found reasons to]\n",
      "[happy birthday baby boyso proud of you thank you for sharing your massive success and strength with us so many of us need that hope and support you got this keep it up] => [i wanted to share a big milestone for me when i was deep in my depression for over a decade i had planned to disappear and quietly commit suicide at age i battled depression and found reasons to]\n",
      "[happy birthday charles we are all super happy to be here for your birthday party can tell with that happy smile that the world is lucky that you stuck around cheers] => [i wanted to share a big milestone for me when i was deep in my depression for over a decade i had planned to disappear and quietly commit suicide at age i battled depression and found reasons to]\n",
      "[fuck yeaaaaaaaaaahhhhhhcause i can relate] => [i wanted to share a big milestone for me when i was deep in my depression for over a decade i had planned to disappear and quietly commit suicide at age i battled depression and found reasons to]\n",
      "[you look badass] => [i wanted to share a big milestone for me when i was deep in my depression for over a decade i had planned to disappear and quietly commit suicide at age i battled depression and found reasons to]\n",
      "[happy birthday friendi couldnt toast you so i figured sending some love would be better] => [i wanted to share a big milestone for me when i was deep in my depression for over a decade i had planned to disappear and quietly commit suicide at age i battled depression and found reasons to]\n",
      "[well donehappy birthdaylife will always get betterkeep it upwe all love you] => [i wanted to share a big milestone for me when i was deep in my depression for over a decade i had planned to disappear and quietly commit suicide at age i battled depression and found reasons to]\n",
      "[your post made me smile strength radiates from you that is good a happiness knowing that you have survivors something dark go you] => [i wanted to share a big milestone for me when i was deep in my depression for over a decade i had planned to disappear and quietly commit suicide at age i battled depression and found reasons to]\n",
      "[happy birthday im glad youre alive] => [i wanted to share a big milestone for me when i was deep in my depression for over a decade i had planned to disappear and quietly commit suicide at age i battled depression and found reasons to]\n",
      "[great job nice beard] => [i wanted to share a big milestone for me when i was deep in my depression for over a decade i had planned to disappear and quietly commit suicide at age i battled depression and found reasons to]\n",
      "[happy birthday young man that is a smile worth sharing and a life worth living give it your absolute best] => [i wanted to share a big milestone for me when i was deep in my depression for over a decade i had planned to disappear and quietly commit suicide at age i battled depression and found reasons to]\n",
      "[damn if that aint just the happy face i needed to see to motivate me today love your beard dude] => [i wanted to share a big milestone for me when i was deep in my depression for over a decade i had planned to disappear and quietly commit suicide at age i battled depression and found reasons to]\n",
      "[happy birthday] => [i wanted to share a big milestone for me when i was deep in my depression for over a decade i had planned to disappear and quietly commit suicide at age i battled depression and found reasons to]\n",
      "[this gives me hope happy birthday] => [i wanted to share a big milestone for me when i was deep in my depression for over a decade i had planned to disappear and quietly commit suicide at age i battled depression and found reasons to]\n",
      "[you are awesome and you are always going to be awesome] => [i wanted to share a big milestone for me when i was deep in my depression for over a decade i had planned to disappear and quietly commit suicide at age i battled depression and found reasons to]\n",
      "[] => [i wanted to share a big milestone for me when i was deep in my depression for over a decade i had planned to disappear and quietly commit suicide at age i battled depression and found reasons to]\n",
      "[deepest congratulations to you i know im a stranger on the internet but holy shit am i proud of you suicide is never the answer it always gets better and i for one am glad youre still around i h] => [i wanted to share a big milestone for me when i was deep in my depression for over a decade i had planned to disappear and quietly commit suicide at age i battled depression and found reasons to]\n",
      "[yes] => [i wanted to share a big milestone for me when i was deep in my depression for over a decade i had planned to disappear and quietly commit suicide at age i battled depression and found reasons to]\n",
      "[happy birthday you have a smile that lights up the whole room plus you look so handsomeive been through some things as well and i realized that it does get betteranyways cheers] => [i wanted to share a big milestone for me when i was deep in my depression for over a decade i had planned to disappear and quietly commit suicide at age i battled depression and found reasons to]\n",
      "[happy birthday ya big lug you are amazing] => [i wanted to share a big milestone for me when i was deep in my depression for over a decade i had planned to disappear and quietly commit suicide at age i battled depression and found reasons to]\n",
      "[happy youre amazing and have a great smile heres to forty more years cheers] => [i wanted to share a big milestone for me when i was deep in my depression for over a decade i had planned to disappear and quietly commit suicide at age i battled depression and found reasons to]\n",
      "[you are a hero happy birthday] => [i wanted to share a big milestone for me when i was deep in my depression for over a decade i had planned to disappear and quietly commit suicide at age i battled depression and found reasons to]\n",
      "[happy birthday im glad you found your reasons to stick around] => [i wanted to share a big milestone for me when i was deep in my depression for over a decade i had planned to disappear and quietly commit suicide at age i battled depression and found reasons to]\n",
      "[you have such a joyous smile im proud of you for keeping on living i know how hard it is some days] => [i wanted to share a big milestone for me when i was deep in my depression for over a decade i had planned to disappear and quietly commit suicide at age i battled depression and found reasons to]\n",
      "[nice beard man mine always grows uneven] => [i wanted to share a big milestone for me when i was deep in my depression for over a decade i had planned to disappear and quietly commit suicide at age i battled depression and found reasons to]\n",
      "[sorry but i have to call you on it you make this great post but hide that glorious beard from the rest of us share the love] => [i wanted to share a big milestone for me when i was deep in my depression for over a decade i had planned to disappear and quietly commit suicide at age i battled depression and found reasons to]\n",
      "[it really helps me and makes my day to see stories like this the age in my head has always been a couple years to go for me but im slowly starting to gain hope thank you for sharing your s] => [i wanted to share a big milestone for me when i was deep in my depression for over a decade i had planned to disappear and quietly commit suicide at age i battled depression and found reasons to]\n",
      "[happy birthday glad you are still with us] => [i wanted to share a big milestone for me when i was deep in my depression for over a decade i had planned to disappear and quietly commit suicide at age i battled depression and found reasons to]\n",
      "[happy i love your beard and great job kicking depression i know thats gotta be tough to do but you did it] => [i wanted to share a big milestone for me when i was deep in my depression for over a decade i had planned to disappear and quietly commit suicide at age i battled depression and found reasons to]\n",
      "[happy birthday huge hug for ya im so very proud of your accomplishment that you found reasons to stay with us your smile alone has brightened my day] => [i wanted to share a big milestone for me when i was deep in my depression for over a decade i had planned to disappear and quietly commit suicide at age i battled depression and found reasons to]\n",
      "[happy day mister im glad you stuck around] => [i wanted to share a big milestone for me when i was deep in my depression for over a decade i had planned to disappear and quietly commit suicide at age i battled depression and found reasons to]\n"
>>>>>>> bab0298242c22bea06be9afa1db2a1c67aae66eb
     ]
    }
   ],
   "source": [
    "import string\n",
    "import re\n",
    "from pickle import dump\n",
    "from unicodedata import normalize\n",
    "from numpy import array\n",
    "\n",
    "# load doc into memory\n",
    "def load_doc(filename):\n",
    "\t# open the file as read only\n",
    "\tfile = open(filename, mode='rt', encoding='utf-8')\n",
    "\t# read all text\n",
    "\ttext = file.read()\n",
    "\t# close the file\n",
    "\tfile.close()\n",
    "\treturn text\n",
    "\n",
    "# split a loaded document into sentences\n",
    "def to_pairs(doc):\n",
    "\tlines = doc.strip().split('\\n')\n",
    "\tpairs = [line.split('\\t') for line in  lines]\n",
    "\treturn pairs\n",
    "\n",
    "# clean a list of lines\n",
    "def clean_pairs(lines):\n",
    "\tcleaned = list()\n",
    "\t# prepare regex for char filtering\n",
    "\tre_print = re.compile('[^%s]' % re.escape(string.printable))\n",
    "\t# prepare translation table for removing punctuation\n",
    "\ttable = str.maketrans('', '', string.punctuation)\n",
    "\tfor pair in lines:\n",
    "\t\tclean_pair = list()\n",
    "\t\tfor line in pair:\n",
    "\t\t\t# normalize unicode characters\n",
    "\t\t\tline = normalize('NFD', line).encode('ascii', 'ignore')\n",
    "\t\t\tline = line.decode('UTF-8')\n",
    "\t\t\t# tokenize on white space\n",
    "\t\t\tline = line.split()\n",
    "\t\t\t# convert to lowercase\n",
    "\t\t\tline = [word.lower() for word in line]\n",
    "\t\t\t# remove punctuation from each token\n",
    "\t\t\tline = [word.translate(table) for word in line]\n",
    "\t\t\t# remove non-printable chars form each token\n",
    "\t\t\tline = [re_print.sub('', w) for w in line]\n",
    "\t\t\t# remove tokens with numbers in them\n",
    "\t\t\tline = [word for word in line if word.isalpha()]\n",
<<<<<<< HEAD
    "# \t\t\tstore as string\n",
    "\t\t\tclean_pair.append(' '.join(line))\n",
    "\t\tif len(clean_pair) == 2:\n",
    "\t\t\t cleaned.append(clean_pair)\n",
=======
    "\t\t\t#store as string\n",
    "\t\t\tclean_pair.append(' '.join(line))\n",
    "\t\tif len(clean_pair) == 2:\n",
    "\t\t\tcleaned.append(clean_pair)\n",
>>>>>>> bab0298242c22bea06be9afa1db2a1c67aae66eb
    "\treturn array(cleaned)\n",
    "\n",
    "# save a list of clean sentences to file\n",
    "def save_clean_data(sentences, filename):\n",
    "\tdump(sentences, open(filename, 'wb'))\n",
    "\tprint('Saved: %s' % filename)\n",
    "\n",
    "# load dataset\n",
    "filename = './reddit.csv'\n",
    "doc = load_doc(filename)\n",
    "# split into english-german pairs\n",
    "pairs = to_pairs(doc)\n",
    "# clean sentences\n",
    "clean_pairs = clean_pairs(pairs)\n",
    "# save clean pairs to file\n",
    "save_clean_data(clean_pairs, 'english-german.pkl')\n",
    "# spot check\n",
    "for i in range(100):\n",
    "\tprint('[%s] => [%s]' % (clean_pairs[i,0], clean_pairs[i,1]))"
   ]
  },
  {
<<<<<<< HEAD
   "cell_type": "code",
   "execution_count": 12,
   "metadata": {},
   "outputs": [
    {
     "data": {
      "text/plain": [
       "array(['i actually really like your smile it makes me happy',\n",
       "       'quite new to reddit thought this might be a good place to start been battlingcoming to terms with dysmorphiacould use a pickmeup'],\n",
       "      dtype='<U7837')"
      ]
     },
     "execution_count": 12,
     "metadata": {},
     "output_type": "execute_result"
    }
   ],
   "source": [
    "clean_pairs[21404]"
   ]
  },
  {
   "cell_type": "code",
   "execution_count": 13,
   "metadata": {},
   "outputs": [
    {
     "data": {
      "text/plain": [
       "[]"
      ]
     },
     "execution_count": 13,
     "metadata": {},
     "output_type": "execute_result"
    }
   ],
   "source": [
    "([len(x) for x in clean_pairs if len(x) == 1])"
   ]
  },
  {
=======
>>>>>>> bab0298242c22bea06be9afa1db2a1c67aae66eb
   "cell_type": "markdown",
   "metadata": {},
   "source": [
    "# Load, Reduce, and Split Clean Data"
   ]
  },
  {
   "cell_type": "code",
<<<<<<< HEAD
   "execution_count": 14,
=======
   "execution_count": 17,
>>>>>>> bab0298242c22bea06be9afa1db2a1c67aae66eb
   "metadata": {},
   "outputs": [
    {
     "name": "stdout",
     "output_type": "stream",
     "text": [
<<<<<<< HEAD
=======
      "33000 6446\n",
>>>>>>> bab0298242c22bea06be9afa1db2a1c67aae66eb
      "Saved: english-german-both.pkl\n",
      "Saved: english-german-train.pkl\n",
      "Saved: english-german-test.pkl\n"
     ]
    }
   ],
   "source": [
    "from pickle import load\n",
    "from pickle import dump\n",
    "from numpy.random import rand\n",
    "from numpy.random import shuffle\n",
    "\n",
    "# load a clean dataset\n",
    "def load_clean_sentences(filename):\n",
    "    return load(open(filename, 'rb'))\n",
    "\n",
    "# # save a list of clean sentences to file\n",
    "def save_clean_data(sentences, filename):\n",
    "    dump(sentences, open(filename, 'wb'))\n",
    "    print('Saved: %s' % filename)\n",
    "\n",
    "# load dataset\n",
    "raw_dataset = load_clean_sentences('english-german.pkl')\n",
    "\n",
    "# reduce dataset size\n",
<<<<<<< HEAD
    "n_sentences = 10000\n",
    "dataset =  clean_pairs   #raw_dataset[:n_sentences, :]\n",
    "# random shuffle\n",
    "shuffle(dataset)\n",
    "# split into train/test\n",
    "train, test = dataset[:20000], dataset[20000:]\n",
=======
    "#n_sentences = 4963\n",
    "dataset =  raw_dataset #[:n_sentences, :]\n",
    "# random shuffle\n",
    "shuffle(dataset)\n",
    "# split into train/test\n",
    "train, test = dataset[:33000], dataset[33000:]\n",
    "print(len(train), len(test))\n",
>>>>>>> bab0298242c22bea06be9afa1db2a1c67aae66eb
    "# save\n",
    "save_clean_data(dataset, 'english-german-both.pkl')\n",
    "save_clean_data(train, 'english-german-train.pkl')\n",
    "save_clean_data(test, 'english-german-test.pkl')"
   ]
  },
  {
   "cell_type": "code",
   "execution_count": 15,
   "metadata": {},
   "outputs": [],
   "source": [
    "import os\n",
    "from pickle import load\n",
    "from numpy import array\n",
    "from keras.preprocessing.text import Tokenizer\n",
    "from keras.preprocessing.sequence import pad_sequences\n",
    "from keras.utils import to_categorical\n",
    "from keras.utils.vis_utils import plot_model\n",
    "from keras.models import Sequential\n",
    "from keras.layers import LSTM\n",
    "from keras.layers import Dense\n",
    "from keras.layers import Embedding\n",
    "from keras.layers import RepeatVector\n",
    "from keras.layers import TimeDistributed\n",
    "from keras.callbacks import ModelCheckpoint"
   ]
  },
  {
   "cell_type": "code",
   "execution_count": 16,
   "metadata": {},
   "outputs": [
    {
     "name": "stdout",
     "output_type": "stream",
     "text": [
      "Found 400000 word vectors.\n"
     ]
    }
   ],
   "source": [
    "glove_dir = '../../../ExamStudy/data/glove.6B/'\n",
    "\n",
    "embeddings_index = {}\n",
    "f = open(os.path.join(glove_dir, 'glove.6B.100d.txt'))\n",
    "for line in f:\n",
    "    values = line.split()\n",
    "    word = values[0]\n",
    "    coefs = np.asarray(values[1:], dtype='float32')\n",
    "    embeddings_index[word] = coefs\n",
    "f.close()\n",
    "\n",
    "print('Found %s word vectors.' % len(embeddings_index))"
   ]
  },
  {
   "cell_type": "code",
   "execution_count": 17,
   "metadata": {},
   "outputs": [],
   "source": [
    "maxlen = 100  # We will cut reviews after 100 words\n",
    "training_samples = 20000  # We will be training on 200 samples\n",
    "validation_samples = 5000  # We will be validating on 10000 samples\n",
    "max_words = 1000"
   ]
  },
  {
   "cell_type": "code",
   "execution_count": 18,
   "metadata": {},
   "outputs": [],
   "source": [
    "tokenizer = Tokenizer(num_words=max_words)\n",
    "tokenizer.fit_on_texts(dataset[:, 0:2].ravel())\n",
    "sequences = tokenizer.texts_to_sequences(dataset[:, 0:2].ravel())"
   ]
  },
  {
   "cell_type": "code",
   "execution_count": 21,
   "metadata": {},
   "outputs": [
    {
     "name": "stdout",
     "output_type": "stream",
     "text": [
      "Found 24568 unique tokens.\n"
     ]
    }
   ],
   "source": [
    "word_index = tokenizer.word_index\n",
    "print('Found %s unique tokens.' % len(word_index))"
   ]
  },
  {
   "cell_type": "code",
   "execution_count": 20,
   "metadata": {},
   "outputs": [],
   "source": [
    "embedding_dim = 100\n",
    "\n",
    "embedding_matrix = np.zeros((max_words, embedding_dim))\n",
    "for word, i in word_index.items():\n",
    "    embedding_vector = embeddings_index.get(word)\n",
    "    if i < max_words:\n",
    "        if embedding_vector is not None:\n",
    "            # Words not found in embedding index will be all-zeros.\n",
    "            embedding_matrix[i] = embedding_vector"
   ]
  },
  {
   "cell_type": "code",
   "execution_count": null,
   "metadata": {},
   "outputs": [],
   "source": []
  },
  {
   "cell_type": "code",
   "execution_count": null,
   "metadata": {},
   "outputs": [],
   "source": []
  },
  {
   "cell_type": "code",
   "execution_count": null,
   "metadata": {},
   "outputs": [],
   "source": []
  },
  {
   "cell_type": "markdown",
   "metadata": {},
   "source": [
    "## Train"
   ]
  },
  {
   "cell_type": "code",
<<<<<<< HEAD
   "execution_count": null,
   "metadata": {
    "scrolled": false
   },
=======
   "execution_count": 4,
   "metadata": {},
   "outputs": [],
   "source": [
    "VOCAB_SIZE = 300"
   ]
  },
  {
   "cell_type": "code",
   "execution_count": 5,
   "metadata": {},
>>>>>>> bab0298242c22bea06be9afa1db2a1c67aae66eb
   "outputs": [
    {
     "name": "stdout",
     "output_type": "stream",
     "text": [
<<<<<<< HEAD
      "English Vocabulary Size: 24569\n",
      "English Max Length: 1000\n",
      "German Vocabulary Size: 24569\n",
      "German Max Length: 1000\n"
=======
      "23306\n",
      "English Vocabulary Size: 301\n",
      "English Max Length: 47\n",
      "German Vocabulary Size: 301\n",
      "German Max Length: 45\n"
>>>>>>> bab0298242c22bea06be9afa1db2a1c67aae66eb
     ]
    }
   ],
   "source": [
<<<<<<< HEAD
    "\n",
=======
    "import pandas as pd\n",
    "import keras\n",
    "import numpy as np\n",
    "import matplotlib.pyplot as plt  \n",
    "from pickle import load\n",
    "from numpy import array\n",
    "from keras.preprocessing.text import Tokenizer\n",
    "from keras.preprocessing.sequence import pad_sequences\n",
    "from keras.utils import to_categorical\n",
    "from keras.utils.vis_utils import plot_model\n",
    "from keras.models import Sequential\n",
    "from keras.layers import LSTM\n",
    "from keras.layers import Dense\n",
    "from keras.layers import Embedding\n",
    "from keras.layers import RepeatVector\n",
    "from keras.layers import TimeDistributed\n",
    "from keras.callbacks import ModelCheckpoint\n",
    "from tqdm import tqdm_notebook\n",
>>>>>>> bab0298242c22bea06be9afa1db2a1c67aae66eb
    "\n",
    "# load a clean dataset\n",
    "def load_clean_sentences(filename):\n",
    "\treturn load(open(filename, 'rb'))\n",
    "\n",
    "# fit a tokenizer\n",
    "def create_tokenizer(lines):\n",
    "\ttokenizer = Tokenizer(num_words=VOCAB_SIZE)\n",
    "\ttokenizer.fit_on_texts(lines)\n",
    "\tprint(len(tokenizer.word_index))\n",
    "\treturn tokenizer\n",
    "\n",
    "# max sentence length\n",
    "def max_length(lines):\n",
    "\treturn max(len(line.split()) for line in lines)\n",
    "\n",
    "# load datasets\n",
    "dataset = load_clean_sentences('english-german-both.pkl')\n",
    "train = load_clean_sentences('english-german-train.pkl')\n",
    "test = load_clean_sentences('english-german-test.pkl')\n",
    "\n",
    "# prepare english tokenizer\n",
    "tokenizer = create_tokenizer(dataset[:, 0:2].ravel())\n",
    "vocab_size = tokenizer.num_words + 1\n",
    "eng_length = max_length(dataset[:, 0])\n",
    "print('English Vocabulary Size: %d' % vocab_size)\n",
    "print('English Max Length: %d' % (eng_length))\n",
    "# prepare german tokenizer\n",
    "ger_length = max_length(dataset[:, 1])\n",
    "print('German Vocabulary Size: %d' % vocab_size)\n",
    "print('German Max Length: %d' % (ger_length))"
   ]
  },
  {
   "cell_type": "code",
   "execution_count": 2,
   "metadata": {},
   "outputs": [
    {
     "name": "stdout",
     "output_type": "stream",
     "text": [
      "Found 400000 word vectors.\n"
     ]
    }
   ],
   "source": [
    "import os\n",
    "GLOVE_DIR = \"./\"\n",
    "embeddings_index = {}\n",
    "f = open(os.path.join(GLOVE_DIR, 'glove.6B.300d.txt'), encoding='utf-8')\n",
    "for line in f:\n",
    "    values = line.split()\n",
    "    word = values[0]\n",
    "    coefs = np.asarray(values[1:], dtype='float32')\n",
    "    embeddings_index[word] = coefs\n",
    "f.close()\n",
    "\n",
    "print('Found %s word vectors.' % len(embeddings_index))"
   ]
  },
  {
   "cell_type": "code",
   "execution_count": 6,
   "metadata": {},
   "outputs": [],
   "source": [
    "EMBEDDING_DIM = 300\n",
    "embedding_matrix = np.zeros((tokenizer.num_words+1, EMBEDDING_DIM))\n",
    "for word, i in [i for i in tokenizer.word_index.items()][:tokenizer.num_words]:\n",
    "    embedding_vector = embeddings_index.get(word)\n",
    "    if embedding_vector is not None:\n",
    "        # words not found in embedding index will be all-zeros.\n",
    "        embedding_matrix[i] = embedding_vector"
   ]
  },
  {
   "cell_type": "code",
   "execution_count": 7,
   "metadata": {
    "scrolled": false
   },
   "outputs": [],
   "source": [
    "# encode and pad sequences\n",
    "def encode_sequences(tokenizer, length, lines):\n",
    "    # integer encode sequences\n",
    "    X = tokenizer.texts_to_sequences(lines)\n",
    "    # pad sequences with 0 values\n",
    "    X = pad_sequences(X, maxlen=length, padding='post')\n",
    "    return X\n",
    "\n",
    "# one hot encode target sequence\n",
    "def encode_output(sequences, vocab_size):\n",
    "    ylist = list()\n",
    "    for sequence in tqdm_notebook(sequences):\n",
    "        encoded = to_categorical(sequence, num_classes=vocab_size)\n",
    "        ylist.append(encoded)\n",
    "    y = np.array(ylist)\n",
    "    y = y.reshape(sequences.shape[0], sequences.shape[1], vocab_size)\n",
    "    return y\n",
    "#     y = np.empty((0, len(sequences[0]), vocab_size), int)\n",
    "#     for sequence in tqdm_notebook(sequences):\n",
    "#         encoded = to_categorical(sequence, num_classes=vocab_size)\n",
    "#         y = np.append(y, np.array([encoded]), axis=0)\n",
    "#     print(y.shape)\n",
    "#     assert y.shape == (sequences.shape[0], sequences.shape[1], vocab_size)\n",
    "#     return y\n",
    "\n",
    "# define NMT model\n",
    "def define_model(src_vocab, tar_vocab, src_timesteps, tar_timesteps, n_units):\n",
    "    \n",
<<<<<<< HEAD
    "\tmodel = Sequential()\n",
    "\tmodel.add(Embedding(src_vocab, n_units, input_length=src_timesteps, mask_zero=True, \n",
    "                        weights = [embedding_matrix], trainable = False))\n",
    "#     model.add(Embedding(max_words, embedding_dim, input_length=maxlen))\n",
    "\tmodel.add(LSTM(n_units))\n",
    "\tmodel.add(RepeatVector(tar_timesteps))\n",
    "\tmodel.add(LSTM(n_units, return_sequences=True))\n",
    "\tmodel.add(TimeDistributed(Dense(tar_vocab, activation='softmax')))\n",
    "\treturn model\n",
    "\n",
    "# load datasets\n",
    "dataset = load_clean_sentences('english-german-both.pkl')\n",
    "train = load_clean_sentences('english-german-train.pkl')\n",
    "test = load_clean_sentences('english-german-test.pkl')\n",
    "\n",
    "# prepare english tokenizer\n",
    "# eng_tokenizer = create_tokenizer(dataset[:, 0])\n",
    "eng_vocab_size = len(tokenizer.word_index) + 1\n",
    "eng_length = 1000#max_length(dataset[:, 0])\n",
    "print('English Vocabulary Size: %d' % eng_vocab_size)\n",
    "print('English Max Length: %d' % (eng_length))\n",
    "# prepare german tokenizer\n",
    "# ger_tokenizer = create_tokenizer(dataset[:, 1])\n",
    "ger_vocab_size = len(tokenizer.word_index) + 1\n",
    "ger_length = 1000#max_length(dataset[:, 1])\n",
    "print('German Vocabulary Size: %d' % ger_vocab_size)\n",
    "print('German Max Length: %d' % (ger_length))\n",
=======
    "    model = Sequential()\n",
    "    #model.add(Embedding(src_vocab, n_units, input_length=src_timesteps, mask_zero=True))\n",
    "    model.add(Embedding(src_vocab, n_units, input_length=src_timesteps, weights=[embedding_matrix], mask_zero=True, trainable=False))\n",
    "    model.add(LSTM(n_units))\n",
    "    model.add(RepeatVector(tar_timesteps))\n",
    "    model.add(LSTM(n_units, return_sequences=True))\n",
    "    model.add(TimeDistributed(Dense(tar_vocab, activation='softmax')))\n",
    "    return model\n",
    "\n",
>>>>>>> bab0298242c22bea06be9afa1db2a1c67aae66eb
    "\n",
    "\n"
   ]
  },
  {
   "cell_type": "code",
   "execution_count": 8,
   "metadata": {},
   "outputs": [
    {
     "data": {
      "application/vnd.jupyter.widget-view+json": {
       "model_id": "afb4feb839a444c9a621c551e5578e64",
       "version_major": 2,
       "version_minor": 0
      },
      "text/plain": [
       "HBox(children=(IntProgress(value=0, max=33000), HTML(value='')))"
      ]
     },
     "metadata": {},
     "output_type": "display_data"
    },
    {
     "name": "stdout",
     "output_type": "stream",
     "text": [
      "\n",
      "(33000, 45) (33000, 47, 301)\n"
     ]
    },
    {
     "data": {
      "application/vnd.jupyter.widget-view+json": {
       "model_id": "ec1e42ed4aa245f6aa1f52428f243cd0",
       "version_major": 2,
       "version_minor": 0
      },
      "text/plain": [
       "HBox(children=(IntProgress(value=0, max=6446), HTML(value='')))"
      ]
     },
     "metadata": {},
     "output_type": "display_data"
    },
    {
     "name": "stdout",
     "output_type": "stream",
     "text": [
      "\n",
      "(6446, 45) (6446, 47, 301)\n"
     ]
    }
   ],
   "source": [
    "# prepare training data\n",
    "trainX = encode_sequences(tokenizer, ger_length, train[:, 1])\n",
    "trainY = encode_sequences(tokenizer, eng_length, train[:, 0])\n",
<<<<<<< HEAD
    "trainY = encode_output(trainY, eng_vocab_size)\n",
    "# prepare validation data\n",
    "testX = encode_sequences(tokenizer, ger_length, test[:, 1])\n",
    "testY = encode_sequences(tokenizer, eng_length, test[:, 0])\n",
    "testY = encode_output(testY, eng_vocab_size)\n",
=======
    "trainY = encode_output(trainY, vocab_size)\n",
    "print(trainX.shape, trainY.shape)\n",
>>>>>>> bab0298242c22bea06be9afa1db2a1c67aae66eb
    "\n",
    "# prepare validation data\n",
    "testX = encode_sequences(tokenizer, ger_length, test[:, 1])\n",
    "testY = encode_sequences(tokenizer, eng_length, test[:, 0])\n",
    "testY = encode_output(testY, vocab_size)\n",
    "print(testX.shape, testY.shape)"
   ]
  },
  {
   "cell_type": "code",
   "execution_count": 9,
   "metadata": {},
   "outputs": [
    {
     "name": "stdout",
     "output_type": "stream",
     "text": [
      "_________________________________________________________________\n",
      "Layer (type)                 Output Shape              Param #   \n",
      "=================================================================\n",
      "embedding_1 (Embedding)      (None, 45, 300)           90300     \n",
      "_________________________________________________________________\n",
      "lstm_1 (LSTM)                (None, 300)               721200    \n",
      "_________________________________________________________________\n",
      "repeat_vector_1 (RepeatVecto (None, 47, 300)           0         \n",
      "_________________________________________________________________\n",
      "lstm_2 (LSTM)                (None, 47, 300)           721200    \n",
      "_________________________________________________________________\n",
      "time_distributed_1 (TimeDist (None, 47, 301)           90601     \n",
      "=================================================================\n",
      "Total params: 1,623,301\n",
      "Trainable params: 1,533,001\n",
      "Non-trainable params: 90,300\n",
      "_________________________________________________________________\n",
      "None\n"
     ]
    }
   ],
   "source": [
    "# define model\n",
<<<<<<< HEAD
    "model = define_model(ger_vocab_size, eng_vocab_size, ger_length, eng_length, 128)\n",
    "model.compile(optimizer='adam', loss='categorical_crossentropy')\n",
    "# summarize defined model\n",
    "print(model.summary())\n"
=======
    "model = define_model(vocab_size, vocab_size, ger_length, eng_length, 300)\n",
    "model.compile(optimizer='adam', loss='categorical_crossentropy')\n",
    "# summarize defined model\n",
    "print(model.summary())"
>>>>>>> bab0298242c22bea06be9afa1db2a1c67aae66eb
   ]
  },
  {
   "cell_type": "code",
   "execution_count": null,
<<<<<<< HEAD
   "metadata": {},
   "outputs": [],
   "source": []
  },
  {
   "cell_type": "code",
   "execution_count": null,
   "metadata": {},
   "outputs": [],
=======
   "metadata": {
    "scrolled": false
   },
   "outputs": [
    {
     "name": "stdout",
     "output_type": "stream",
     "text": [
      "\n",
      "Epoch 00001: val_loss improved from inf to 2.03991, saving model to model.h5\n",
      "\n",
      "Epoch 00002: val_loss improved from 2.03991 to 2.03039, saving model to model.h5\n",
      "\n",
      "Epoch 00003: val_loss improved from 2.03039 to 2.02611, saving model to model.h5\n"
     ]
    }
   ],
>>>>>>> bab0298242c22bea06be9afa1db2a1c67aae66eb
   "source": [
    "#plot_model(model, to_file='model.png', show_shapes=True)\n",
    "# fit model\n",
    "filename = 'model.h5'\n",
    "checkpoint = ModelCheckpoint(filename, monitor='val_loss', verbose=1, save_best_only=True, mode='min')\n",
<<<<<<< HEAD
    "model.fit(trainX, trainY, epochs=1, batch_size=64, validation_data=(testX, testY), \n",
    "          callbacks=[checkpoint], verbose=1)"
=======
    "model.fit(trainX, trainY, epochs=100, batch_size=64, validation_data=(testX, testY), callbacks=[checkpoint], verbose=0)"
>>>>>>> bab0298242c22bea06be9afa1db2a1c67aae66eb
   ]
  },
  {
   "cell_type": "code",
   "execution_count": null,
   "metadata": {},
   "outputs": [],
   "source": []
  },
  {
   "cell_type": "code",
   "execution_count": null,
   "metadata": {},
   "outputs": [],
   "source": []
  },
  {
   "cell_type": "code",
   "execution_count": null,
   "metadata": {},
   "outputs": [],
   "source": []
  },
  {
   "cell_type": "markdown",
   "metadata": {},
   "source": [
    "# Evaluation"
   ]
  },
  {
   "cell_type": "code",
<<<<<<< HEAD
   "execution_count": 24,
=======
   "execution_count": 8,
>>>>>>> bab0298242c22bea06be9afa1db2a1c67aae66eb
   "metadata": {
    "scrolled": true
   },
   "outputs": [
    {
<<<<<<< HEAD
=======
     "name": "stderr",
     "output_type": "stream",
     "text": [
      "C:\\Users\\morod\\Anaconda3\\lib\\site-packages\\sklearn\\utils\\fixes.py:55: DeprecationWarning: inspect.getargspec() is deprecated since Python 3.0, use inspect.signature() or inspect.getfullargspec()\n",
      "  if 'order' in inspect.getargspec(np.copy)[0]:\n"
     ]
    },
    {
>>>>>>> bab0298242c22bea06be9afa1db2a1c67aae66eb
     "name": "stdout",
     "output_type": "stream",
     "text": [
      "train\n",
<<<<<<< HEAD
      "src=[listen man i have no reason to lie it doesnt benefit me in any way you are attractive you are and i have no doubt that someone else will find you or vice versa keep trying youll get there], target=[i was beginning to conquer my depression and i had the biggest support from my boyfriend but we broke up and ive been spiralling since anxiety and insecurities kick me down and tell me i wont find love and wont get better some toasting would be much appreciated], predicted=[]\n",
      "src=[breakups are hard but you need to accept that people come and go whatever happens its for the good so just stay tuned and keep going you look so strong i know you can get over this], target=[feeling pathetic even as i write this going thru an awful break up and the anxiety is overwhelming just want to feel that im worth something just want a distraction to get me thru today could you some toasting thank you in advance], predicted=[]\n",
      "src=[you look lovely can i ask what people are saying thats upsetting you], target=[someone on reddit is really upsetting and triggering me right now and i just need some reassurance that everything is okay old picture sorry], predicted=[]\n",
      "src=[youre a good looking dude nice haircut], target=[uneventful birthday so far though id kill two birds with one stone], predicted=[]\n",
      "src=[ohmyfuckinggoodness i want your hair], target=[struggling a bit could use some positivity], predicted=[]\n",
      "src=[if we are talking high school it sucks and is almost over you can have whatever year you want and start your life fresh again in months the best part of life is ahead of you every day you will get to do more and more of what you love and less and less of what bothers you enjoy], target=[senior year is starting and im both exhausted and extremely scared so could really use a self esteem boost to start the day], predicted=[]\n",
      "src=[cute glasses], target=[french medstudent stressed out tired and anxious about the future needs a little toast to help brighten her day], predicted=[]\n",
      "src=[dude i feel this on a spiritual level i havent had a partner in years and i dont have any friends really but i think the best thing you can do for yourself is to find a sort of peace being on your own if that makes sense people come and go and i think the ones that are truly meant to stay in your life will it might take five days or five years but youll find those people for now just do you and enjoy your own company learn to love yourself honestly though youre really cute and you look like sodone id happily chill with on a friday night for late night drinks and chatter and stuff chin up mdude], target=[havent had a girlfriend in years have like friends if that im and still havent figured out why people dont like me i would appreciate anything to help pick me up], predicted=[]\n",
      "src=[love love love the color of your hair], target=[ive had a very rough past months going through a process of rebuilding myself emotionally i would love some toasting thanks so much], predicted=[]\n",
      "src=[you will heal my dude it will take time but you will heal from this stay steady], target=[a week since i made a post having a hard time believing she wants a divorceletting go cant focus on anything else just trying to get thru the day until my therapy session tomorrow can use any kind words], predicted=[]\n"
     ]
    },
    {
     "ename": "KeyboardInterrupt",
     "evalue": "",
     "output_type": "error",
     "traceback": [
      "\u001b[0;31m---------------------------------------------------------------------------\u001b[0m",
      "\u001b[0;31mKeyboardInterrupt\u001b[0m                         Traceback (most recent call last)",
      "\u001b[0;32m<ipython-input-24-6678a683eec0>\u001b[0m in \u001b[0;36m<module>\u001b[0;34m\u001b[0m\n\u001b[1;32m     86\u001b[0m \u001b[0;31m# test on some training sequences\u001b[0m\u001b[0;34m\u001b[0m\u001b[0;34m\u001b[0m\u001b[0;34m\u001b[0m\u001b[0m\n\u001b[1;32m     87\u001b[0m \u001b[0mprint\u001b[0m\u001b[0;34m(\u001b[0m\u001b[0;34m'train'\u001b[0m\u001b[0;34m)\u001b[0m\u001b[0;34m\u001b[0m\u001b[0;34m\u001b[0m\u001b[0m\n\u001b[0;32m---> 88\u001b[0;31m \u001b[0mevaluate_model\u001b[0m\u001b[0;34m(\u001b[0m\u001b[0mmodel\u001b[0m\u001b[0;34m,\u001b[0m \u001b[0meng_tokenizer\u001b[0m\u001b[0;34m,\u001b[0m \u001b[0mtrainX\u001b[0m\u001b[0;34m,\u001b[0m \u001b[0mtrain\u001b[0m\u001b[0;34m)\u001b[0m\u001b[0;34m\u001b[0m\u001b[0;34m\u001b[0m\u001b[0m\n\u001b[0m\u001b[1;32m     89\u001b[0m \u001b[0;31m# test on some test sequences\u001b[0m\u001b[0;34m\u001b[0m\u001b[0;34m\u001b[0m\u001b[0;34m\u001b[0m\u001b[0m\n\u001b[1;32m     90\u001b[0m \u001b[0mprint\u001b[0m\u001b[0;34m(\u001b[0m\u001b[0;34m'test'\u001b[0m\u001b[0;34m)\u001b[0m\u001b[0;34m\u001b[0m\u001b[0;34m\u001b[0m\u001b[0m\n",
      "\u001b[0;32m<ipython-input-24-6678a683eec0>\u001b[0m in \u001b[0;36mevaluate_model\u001b[0;34m(model, tokenizer, sources, raw_dataset)\u001b[0m\n\u001b[1;32m     54\u001b[0m                 \u001b[0;31m# translate encoded source text\u001b[0m\u001b[0;34m\u001b[0m\u001b[0;34m\u001b[0m\u001b[0;34m\u001b[0m\u001b[0m\n\u001b[1;32m     55\u001b[0m                 \u001b[0msource\u001b[0m \u001b[0;34m=\u001b[0m \u001b[0msource\u001b[0m\u001b[0;34m.\u001b[0m\u001b[0mreshape\u001b[0m\u001b[0;34m(\u001b[0m\u001b[0;34m(\u001b[0m\u001b[0;36m1\u001b[0m\u001b[0;34m,\u001b[0m \u001b[0msource\u001b[0m\u001b[0;34m.\u001b[0m\u001b[0mshape\u001b[0m\u001b[0;34m[\u001b[0m\u001b[0;36m0\u001b[0m\u001b[0;34m]\u001b[0m\u001b[0;34m)\u001b[0m\u001b[0;34m)\u001b[0m\u001b[0;34m\u001b[0m\u001b[0;34m\u001b[0m\u001b[0m\n\u001b[0;32m---> 56\u001b[0;31m                 \u001b[0mtranslation\u001b[0m \u001b[0;34m=\u001b[0m \u001b[0mpredict_sequence\u001b[0m\u001b[0;34m(\u001b[0m\u001b[0mmodel\u001b[0m\u001b[0;34m,\u001b[0m \u001b[0meng_tokenizer\u001b[0m\u001b[0;34m,\u001b[0m \u001b[0msource\u001b[0m\u001b[0;34m)\u001b[0m\u001b[0;34m\u001b[0m\u001b[0;34m\u001b[0m\u001b[0m\n\u001b[0m\u001b[1;32m     57\u001b[0m                 \u001b[0mraw_target\u001b[0m\u001b[0;34m,\u001b[0m \u001b[0mraw_src\u001b[0m \u001b[0;34m=\u001b[0m \u001b[0mraw_dataset\u001b[0m\u001b[0;34m[\u001b[0m\u001b[0mi\u001b[0m\u001b[0;34m]\u001b[0m\u001b[0;34m\u001b[0m\u001b[0;34m\u001b[0m\u001b[0m\n\u001b[1;32m     58\u001b[0m                 \u001b[0;32mif\u001b[0m \u001b[0mi\u001b[0m \u001b[0;34m<\u001b[0m \u001b[0;36m10\u001b[0m\u001b[0;34m:\u001b[0m\u001b[0;34m\u001b[0m\u001b[0;34m\u001b[0m\u001b[0m\n",
      "\u001b[0;32m<ipython-input-24-6678a683eec0>\u001b[0m in \u001b[0;36mpredict_sequence\u001b[0;34m(model, tokenizer, source)\u001b[0m\n\u001b[1;32m     39\u001b[0m \u001b[0;32mdef\u001b[0m \u001b[0mpredict_sequence\u001b[0m\u001b[0;34m(\u001b[0m\u001b[0mmodel\u001b[0m\u001b[0;34m,\u001b[0m \u001b[0mtokenizer\u001b[0m\u001b[0;34m,\u001b[0m \u001b[0msource\u001b[0m\u001b[0;34m)\u001b[0m\u001b[0;34m:\u001b[0m\u001b[0;34m\u001b[0m\u001b[0;34m\u001b[0m\u001b[0m\n\u001b[1;32m     40\u001b[0m         \u001b[0mprediction\u001b[0m \u001b[0;34m=\u001b[0m \u001b[0mmodel\u001b[0m\u001b[0;34m.\u001b[0m\u001b[0mpredict\u001b[0m\u001b[0;34m(\u001b[0m\u001b[0msource\u001b[0m\u001b[0;34m,\u001b[0m \u001b[0mverbose\u001b[0m\u001b[0;34m=\u001b[0m\u001b[0;36m0\u001b[0m\u001b[0;34m)\u001b[0m\u001b[0;34m[\u001b[0m\u001b[0;36m0\u001b[0m\u001b[0;34m]\u001b[0m\u001b[0;34m\u001b[0m\u001b[0;34m\u001b[0m\u001b[0m\n\u001b[0;32m---> 41\u001b[0;31m         \u001b[0mintegers\u001b[0m \u001b[0;34m=\u001b[0m \u001b[0;34m[\u001b[0m\u001b[0margmax\u001b[0m\u001b[0;34m(\u001b[0m\u001b[0mvector\u001b[0m\u001b[0;34m)\u001b[0m \u001b[0;32mfor\u001b[0m \u001b[0mvector\u001b[0m \u001b[0;32min\u001b[0m \u001b[0mprediction\u001b[0m\u001b[0;34m]\u001b[0m\u001b[0;34m\u001b[0m\u001b[0;34m\u001b[0m\u001b[0m\n\u001b[0m\u001b[1;32m     42\u001b[0m         \u001b[0mtarget\u001b[0m \u001b[0;34m=\u001b[0m \u001b[0mlist\u001b[0m\u001b[0;34m(\u001b[0m\u001b[0;34m)\u001b[0m\u001b[0;34m\u001b[0m\u001b[0;34m\u001b[0m\u001b[0m\n\u001b[1;32m     43\u001b[0m         \u001b[0;32mfor\u001b[0m \u001b[0mi\u001b[0m \u001b[0;32min\u001b[0m \u001b[0mintegers\u001b[0m\u001b[0;34m:\u001b[0m\u001b[0;34m\u001b[0m\u001b[0;34m\u001b[0m\u001b[0m\n",
      "\u001b[0;32m<ipython-input-24-6678a683eec0>\u001b[0m in \u001b[0;36m<listcomp>\u001b[0;34m(.0)\u001b[0m\n\u001b[1;32m     39\u001b[0m \u001b[0;32mdef\u001b[0m \u001b[0mpredict_sequence\u001b[0m\u001b[0;34m(\u001b[0m\u001b[0mmodel\u001b[0m\u001b[0;34m,\u001b[0m \u001b[0mtokenizer\u001b[0m\u001b[0;34m,\u001b[0m \u001b[0msource\u001b[0m\u001b[0;34m)\u001b[0m\u001b[0;34m:\u001b[0m\u001b[0;34m\u001b[0m\u001b[0;34m\u001b[0m\u001b[0m\n\u001b[1;32m     40\u001b[0m         \u001b[0mprediction\u001b[0m \u001b[0;34m=\u001b[0m \u001b[0mmodel\u001b[0m\u001b[0;34m.\u001b[0m\u001b[0mpredict\u001b[0m\u001b[0;34m(\u001b[0m\u001b[0msource\u001b[0m\u001b[0;34m,\u001b[0m \u001b[0mverbose\u001b[0m\u001b[0;34m=\u001b[0m\u001b[0;36m0\u001b[0m\u001b[0;34m)\u001b[0m\u001b[0;34m[\u001b[0m\u001b[0;36m0\u001b[0m\u001b[0;34m]\u001b[0m\u001b[0;34m\u001b[0m\u001b[0;34m\u001b[0m\u001b[0m\n\u001b[0;32m---> 41\u001b[0;31m         \u001b[0mintegers\u001b[0m \u001b[0;34m=\u001b[0m \u001b[0;34m[\u001b[0m\u001b[0margmax\u001b[0m\u001b[0;34m(\u001b[0m\u001b[0mvector\u001b[0m\u001b[0;34m)\u001b[0m \u001b[0;32mfor\u001b[0m \u001b[0mvector\u001b[0m \u001b[0;32min\u001b[0m \u001b[0mprediction\u001b[0m\u001b[0;34m]\u001b[0m\u001b[0;34m\u001b[0m\u001b[0;34m\u001b[0m\u001b[0m\n\u001b[0m\u001b[1;32m     42\u001b[0m         \u001b[0mtarget\u001b[0m \u001b[0;34m=\u001b[0m \u001b[0mlist\u001b[0m\u001b[0;34m(\u001b[0m\u001b[0;34m)\u001b[0m\u001b[0;34m\u001b[0m\u001b[0;34m\u001b[0m\u001b[0m\n\u001b[1;32m     43\u001b[0m         \u001b[0;32mfor\u001b[0m \u001b[0mi\u001b[0m \u001b[0;32min\u001b[0m \u001b[0mintegers\u001b[0m\u001b[0;34m:\u001b[0m\u001b[0;34m\u001b[0m\u001b[0;34m\u001b[0m\u001b[0m\n",
      "\u001b[0;32m/anaconda3/envs/menv/lib/python3.6/site-packages/numpy/core/fromnumeric.py\u001b[0m in \u001b[0;36margmax\u001b[0;34m(a, axis, out)\u001b[0m\n\u001b[1;32m   1035\u001b[0m \u001b[0;34m\u001b[0m\u001b[0m\n\u001b[1;32m   1036\u001b[0m     \"\"\"\n\u001b[0;32m-> 1037\u001b[0;31m     \u001b[0;32mreturn\u001b[0m \u001b[0m_wrapfunc\u001b[0m\u001b[0;34m(\u001b[0m\u001b[0ma\u001b[0m\u001b[0;34m,\u001b[0m \u001b[0;34m'argmax'\u001b[0m\u001b[0;34m,\u001b[0m \u001b[0maxis\u001b[0m\u001b[0;34m=\u001b[0m\u001b[0maxis\u001b[0m\u001b[0;34m,\u001b[0m \u001b[0mout\u001b[0m\u001b[0;34m=\u001b[0m\u001b[0mout\u001b[0m\u001b[0;34m)\u001b[0m\u001b[0;34m\u001b[0m\u001b[0;34m\u001b[0m\u001b[0m\n\u001b[0m\u001b[1;32m   1038\u001b[0m \u001b[0;34m\u001b[0m\u001b[0m\n\u001b[1;32m   1039\u001b[0m \u001b[0;34m\u001b[0m\u001b[0m\n",
      "\u001b[0;32m/anaconda3/envs/menv/lib/python3.6/site-packages/numpy/core/fromnumeric.py\u001b[0m in \u001b[0;36m_wrapfunc\u001b[0;34m(obj, method, *args, **kwds)\u001b[0m\n\u001b[1;32m     49\u001b[0m \u001b[0;32mdef\u001b[0m \u001b[0m_wrapfunc\u001b[0m\u001b[0;34m(\u001b[0m\u001b[0mobj\u001b[0m\u001b[0;34m,\u001b[0m \u001b[0mmethod\u001b[0m\u001b[0;34m,\u001b[0m \u001b[0;34m*\u001b[0m\u001b[0margs\u001b[0m\u001b[0;34m,\u001b[0m \u001b[0;34m**\u001b[0m\u001b[0mkwds\u001b[0m\u001b[0;34m)\u001b[0m\u001b[0;34m:\u001b[0m\u001b[0;34m\u001b[0m\u001b[0;34m\u001b[0m\u001b[0m\n\u001b[1;32m     50\u001b[0m     \u001b[0;32mtry\u001b[0m\u001b[0;34m:\u001b[0m\u001b[0;34m\u001b[0m\u001b[0;34m\u001b[0m\u001b[0m\n\u001b[0;32m---> 51\u001b[0;31m         \u001b[0;32mreturn\u001b[0m \u001b[0mgetattr\u001b[0m\u001b[0;34m(\u001b[0m\u001b[0mobj\u001b[0m\u001b[0;34m,\u001b[0m \u001b[0mmethod\u001b[0m\u001b[0;34m)\u001b[0m\u001b[0;34m(\u001b[0m\u001b[0;34m*\u001b[0m\u001b[0margs\u001b[0m\u001b[0;34m,\u001b[0m \u001b[0;34m**\u001b[0m\u001b[0mkwds\u001b[0m\u001b[0;34m)\u001b[0m\u001b[0;34m\u001b[0m\u001b[0;34m\u001b[0m\u001b[0m\n\u001b[0m\u001b[1;32m     52\u001b[0m \u001b[0;34m\u001b[0m\u001b[0m\n\u001b[1;32m     53\u001b[0m     \u001b[0;31m# An AttributeError occurs if the object does not have\u001b[0m\u001b[0;34m\u001b[0m\u001b[0;34m\u001b[0m\u001b[0;34m\u001b[0m\u001b[0m\n",
      "\u001b[0;31mKeyboardInterrupt\u001b[0m: "
=======
      "src=[i wanted to share a big milestone for me when i was deep in my depression for over a decade i had planned to disappear and quietly commit suicide at age i battled depression and found reasons to], target=[you absolutely epic champ keep it up and keep inspiring others thank you], predicted=[happy birthday you]\n",
      "src=[feeling kinda down but i knew reddit would be able to help], target=[you look like the type of guy that walks into a room and everyone just smiles because youre there how can you not kind hearted eyes a sweet smile and the color of your hair is stunning that crisp white shirt surely means you have a meeting with success good luck to you], predicted=[you look like]\n",
      "src=[tomorrow im going to court against my rapist and could really use some words of encouragement], target=[youre a legit hero], predicted=[you are you you]\n",
      "src=[over the past years or so ive gained about pounds every time i manage to lose some weight i quickly put them back on its really effected how i see myself and although i want to start my we], target=[your eyes are absolutely stunning you dont look overweight you look really beautiful please be kind to yourself because you deserve to know that youre loved], predicted=[you are]\n",
      "src=[found out today that a coworker said some really nasty things about my appearance but then i went a drove a car for the first time toast me please], target=[you kind of look a little like selena gomez adorable], predicted=[you are]\n",
      "src=[my grandad will probably die aroundon my birthday and i dont know how to flip photos on my phone], target=[he lived death is part of the journey ive lost a loved one on my birthday also i take it as an annual reminder to love life before its too late dont harbour pain for his death build joy as you celebrate the life he lived], predicted=[i birthday]\n",
      "src=[years single and alone this week had despicable by grandson stuck in my head all day i need some positivity because im out of it], target=[mate seeing your face has made my morning can we be friends i dont know you but bud its going to be okay really theres thousands of strangers here who are jumping at the chance to big you up], predicted=[you have like]\n",
      "src=[kinda socially awkwardshy self conscious and ive never really been in a relationship before], target=[youre the guy that our girls tell you not to worry about but we have to worry because well look at you im sure you are just as amazing as you look], predicted=[you look]\n",
      "src=[been struggling the most ive ever struggled my entire life i feel so broken please some wordds of encouragement would be so greatly appreciated], target=[aw dude sorry to hear that whats up you have a real kind look about you sorry youre sad cool specs bandanna and hair im sure whatever is happening you will get through it lovely hope you feel a bit better soon x], predicted=[you are]\n",
      "src=[i love commenting on other peoples posts to help them feel better im not sad or anything but i too enjoy compliments love you all], target=[i love your hair you look all warm and snuggly], predicted=[you have like]\n",
      "src=[hard to post this i have severe social anxiety and stress about my future as my sister has low functioning autism and i know ill be responsible for her after my parents pass stressing brings me dow], target=[just from this its clear that you are a stellar amazing lovely human being caring for a loved one is so hard and it takes someone with a big heart to do it you are wonderful and the world is a little bit of a brighter place with you in it], predicted=[you have a a]\n",
      "src=[hey guys and gals its been a rough several months looking for something to help keep my head up], target=[nice beard op], predicted=[you look like]\n",
      "src=[love makeup but want to feel equally comfortable without it thought a toast could give me a boost thank you], target=[your skin is absolutely perfect your glasses are awesome and i love your hair], predicted=[you are]\n",
      "src=[still having issues with self worth and i feel like my smile is really ugly but recently ive never been able to say i was happy im happy i found people who like me for me i think i still have], target=[people dont care bro they just want to put you down so they can feel superior keep up high spirit], predicted=[you look like a you]\n",
      "src=[passed my cpa exams and lost pounds in but relationships suck and i could really use a pick me up toast me], target=[that probably took a ton of hard work and i can tell you are very proud of your accomplishments congrats and good luck in your career going forward], predicted=[you you]\n",
      "src=[my boyfriends dad told him he should dump me for a hotter mutual friend he doesnt care for his opinion but it still hurt me in trying to look more like her my ed came back and im feeling pretty], target=[i lowkey stalked your profile and you are gorgeous seriously you should really model if youre comfortable with that of courseas someone whos struggledstruggling with an ed i know that someone simply telling you dont relapse wont do the trick im just really hoping youll make the decision yourselfi know its a choice we have to make over and over but you are strong dont let som], predicted=[you dad]\n",
      "src=[recently came out to my mom as trans and she said some pretty dishearteningmean things to me im currently dealing with some bad dysphoria and im in need of some cheering up can you guys help me], target=[you are beautiful inside and out you are also valid in identifying and feeling as you please], predicted=[you are you you]\n",
      "src=[my girlfriend just broke up with me looking for anything positive], target=[you look like my bf and hes handsomeeeeeee], predicted=[you look like]\n",
      "src=[managing my depression and anxiety better and will graduate hs soon], target=[first off you are adorablesecondly congrats graduating high school is a great accomplishment], predicted=[you look]\n",
      "src=[i finished a degree and didnt pursue it i lost all my friends and the motivation to even try anymore i hate myself and think everyone hates me too doctors think im healthy but my body and mind], target=[i also completed a degree and only used it for a few months until i got married and pregnantlife has a way of working out youre smart youll find yourself exactly where you need to be], predicted=[you are you]\n"
     ]
    },
    {
     "name": "stderr",
     "output_type": "stream",
     "text": [
      "C:\\Users\\morod\\Anaconda3\\lib\\site-packages\\nltk\\translate\\bleu_score.py:503: UserWarning: \n",
      "The hypothesis contains 0 counts of 4-gram overlaps.\n",
      "Therefore the BLEU score evaluates to 0, independently of\n",
      "how many N-gram overlaps of lower order it contains.\n",
      "Consider using lower n-gram order or use SmoothingFunction()\n",
      "  warnings.warn(_msg)\n"
     ]
    },
    {
     "name": "stdout",
     "output_type": "stream",
     "text": [
      "BLEU-1: 0.000007\n",
      "BLEU-2: 0.000003\n",
      "BLEU-3: 0.000001\n",
      "BLEU-4: 0.000000\n",
      "test\n",
      "src=[after years of avoidance i am finally dealing with the fact that i am a victim of childhood sexual abuse and rape as an adult currently feeling dirty worthless and hopelessly depressed], target=[dont fall into a spiral of blaming your problems on these past injustices you are still responsible for improving the quality of your own life], predicted=[you are you you you you you]\n",
      "src=[im going to a party soon and honestly i feel like shit and might end up not going maybe a toast will help], target=[low key archie andrews], predicted=[you look like]\n",
      "src=[just a sad lonely year old who looks like shes and hides her insecurities beneath a smile i could do with some toasting], target=[its okay to have insecurities just dont let them control your life youre cute and youll have guys wanting to come into your life so i dont think youll have to do this alone], predicted=[you are]\n",
      "src=[my gf of year cheated and confessed to me the week of valentines day we broke up and i havent been the same ever since graduating with a doctorate in under a month with limited job prospec], target=[first of all who would cheat on you youre hot what a dingus she is second of all congratulations on youre doctorate that takes so much grit and perseverance to achieve something like that dont let her take the joy of your achievement away], predicted=[you]\n",
      "src=[ive had a very rough past months going through a process of rebuilding myself emotionally i would love some toasting thanks so much], target=[goddess venus herself], predicted=[you are]\n",
      "src=[been struggling lately string of bad luck financial problems processing repressed trauma plus and told i look old hard to get over years of self hate man help me out], target=[honest smile beautiful face u look like a good person everything will be fine], predicted=[you are]\n",
      "src=[feeling pathetic even as i write this going thru an awful break up and the anxiety is overwhelming just want to feel that im worth something just want a distraction to get me thru today could you], target=[that guy you broke up with is missing out on an amazing looking woman], predicted=[you are you you]\n",
      "src=[year old female diagnosed with aspergers adhd anxiety social anxiety and depressive tendencies ive been heavily anorexic since i was and got bit by a dog im finally average weight ive h], target=[anorexia is a bitch and from personal experience getting the weight back on is very hard youre a very strong person and dont let anyone tell you otherwise being and having the courage to post something like this is something that i have great admiration for because i dont know if i could do it and im in my], predicted=[you are you you and]\n",
      "src=[ive had so many panic attacks every day in the past week i feel so empty], target=[i love this minimal goth look and omg those dark green eyes perfect on you i can tell just by your style that you and me would be buddies if we knew each other especially because of the anxiety thing i know that strugglealso what is that lip color its gorgeous], predicted=[you are]\n",
      "src=[halfway through my weight loss journey lost in recently earned my private pilots license heres to], target=[just get that chiseled jaw line and your set], predicted=[you look]\n",
      "src=[my anxiety has been taking over everything i do the past few weeks and i basically feel like ive been on autopilot my period just showed up to make me even more miserable could use some toasts plea], target=[i honestly just want to hug you youre so naturally pretty and you have a kind face], predicted=[you have]\n",
      "src=[struggling with bpd low self esteem and depression are keeping me down lately i could use a toast if you wouldnt mind], target=[low self esteem you are damn good looking], predicted=[you look like]\n",
      "src=[hi reddit not feeling super great about myself after some trolls got on me about my weight and said some pretty unwanted sexual things to me so feel free to toast me], target=[omg youre so cute your glasses and lip color fit you well and as a cg im jealous of your hair], predicted=[you are like]\n",
      "src=[having a stinky day got a couple of nasty comments about my huge schnoz that i normally dont feel insecure about], target=[everything about you is perfect for who you are you look so darling and like someone i would love to be friends with keep smiling hun], predicted=[you are]\n",
      "src=[finally got my bachelors degree at age in december and moved to florida right afterward have a bit of social anxiety hardly go out on weekendsjust feel lonely and miss home even though i love i], target=[congrats on the degree its a lot of effort and to move right after takes quite a bit of courage and initiative if you managed that im sure you can get rid of some or all of that weight if you want and month isnt that long to adjust to such a big change im sure you will get into the swing of things soon enough best wishes], predicted=[you look you you]\n",
      "src=[security guard at work asked me why i dont try to do myself up more said i would look prettier i have already been having issues with how i look since i gained weight], target=[pretty is not the rent you pay to exist in this world also you are pretty and that security guard was completely out of line gender irrelevant you owe it to yourself to let her know if you dont appreciate her comments], predicted=[you are you]\n",
      "src=[has been crying for a while sorry for no makeup], target=[why do you need makeup you look pretty enough makeup will just make you look worse], predicted=[you look need]\n",
      "src=[im graduating after my junior year have gotten in scholarships and am pursuing something i love all while dealing with intense anxiety depression and chronic migraine pain a humble brag], target=[yall we in the presence of a queen here give her her crown she deserves it d], predicted=[you are you]\n",
      "src=[old guy my bestfriendgf of years cheated on me guy she cheated on me with has been harassing me over social media and she ousted some very personal info about me to my family without my p], target=[i know it hurts like fuck right now and you have every right to be angry and cry it all out but down the road youll realize you dodged a bullet if shes the kind of person to do this shes not the kind of person you want to spend your life with at the ages you got together youre still figuring out what kind of person you are and it seems shes becoming a less savory one im sorry you hav], predicted=[you sorry sorry you you]\n",
      "src=[in the last months ive lost my dad jobs childhood pets my girlfriend and had to put our dog up for adoption heres a toast to everyone starting back at square one], target=[thank you for reminding me that my problems really arent so bad and that i can definitely work through them especially if you can smile through everything youve been through i am in awe of your strength youre a lovely human being], predicted=[i look like]\n",
      "BLEU-1: 0.000009\n",
      "BLEU-2: 0.000005\n",
      "BLEU-3: 0.000002\n",
      "BLEU-4: 0.000000\n"
>>>>>>> bab0298242c22bea06be9afa1db2a1c67aae66eb
     ]
    }
   ],
   "source": [
    "from pickle import load\n",
    "from numpy import array\n",
    "from numpy import argmax\n",
    "from keras.preprocessing.text import Tokenizer\n",
    "from keras.preprocessing.sequence import pad_sequences\n",
    "from keras.models import load_model\n",
    "from nltk.translate.bleu_score import corpus_bleu\n",
    "\n",
    "# max sentence length\n",
    "def max_length(lines):\n",
    "\treturn max(len(line.split()) for line in lines)\n",
    "\n",
    "# encode and pad sequences\n",
    "def encode_sequences(tokenizer, length, lines):\n",
    "\t# integer encode sequences\n",
    "\tX = tokenizer.texts_to_sequences(lines)\n",
    "\t# pad sequences with 0 values\n",
    "\tX = pad_sequences(X, maxlen=length, padding='post')\n",
    "\treturn X\n",
    "\n",
    "# map an integer to a word\n",
    "def word_for_id(integer, tokenizer):\n",
    "\tfor word, index in tokenizer.word_index.items():\n",
    "\t\tif index == integer:\n",
    "\t\t\treturn word\n",
    "\treturn None\n",
    "\n",
    "# generate target given source sequence\n",
    "def predict_sequence(model, tokenizer, source):\n",
    "\tprediction = model.predict(source, verbose=0)[0]\n",
    "\tintegers = [argmax(vector) for vector in prediction]\n",
    "\ttarget = list()\n",
    "\tfor i in integers:\n",
    "\t\tword = word_for_id(i, tokenizer)\n",
    "\t\tif word is None:\n",
    "\t\t\tbreak\n",
    "\t\ttarget.append(word)\n",
    "\treturn ' '.join(target)\n",
    "\n",
    "# evaluate the skill of the model\n",
    "def evaluate_model(model, tokenizer, sources, raw_dataset):\n",
    "\tactual, predicted = list(), list()\n",
    "\tfor i, source in enumerate(sources[:100]):\n",
    "\t\t# translate encoded source text\n",
    "\t\tsource = source.reshape((1, source.shape[0]))\n",
    "\t\ttranslation = predict_sequence(model, tokenizer, source)\n",
    "\t\traw_target, raw_src = raw_dataset[i]\n",
    "\t\tif i < 20:\n",
    "\t\t\tprint('src=[%s], target=[%s], predicted=[%s]' % (raw_src, raw_target, translation))\n",
    "\t\tactual.append([raw_target.split()])\n",
    "\t\tpredicted.append(translation.split())\n",
    "\t# calculate BLEU score\n",
    "\tprint('BLEU-1: %f' % corpus_bleu(actual, predicted, weights=(1.0, 0, 0, 0)))\n",
    "\tprint('BLEU-2: %f' % corpus_bleu(actual, predicted, weights=(0.5, 0.5, 0, 0)))\n",
    "\tprint('BLEU-3: %f' % corpus_bleu(actual, predicted, weights=(0.3, 0.3, 0.3, 0)))\n",
    "\tprint('BLEU-4: %f' % corpus_bleu(actual, predicted, weights=(0.25, 0.25, 0.25, 0.25)))\n",
    "\n",
    "# load model\n",
    "model = load_model('model.h5')\n",
    "# test on some training sequences\n",
    "print('train')\n",
    "evaluate_model(model, tokenizer, trainX, train)\n",
    "# test on some test sequences\n",
    "print('test')\n",
    "evaluate_model(model, tokenizer, testX, test)"
   ]
  },
  {
   "cell_type": "code",
<<<<<<< HEAD
   "execution_count": 61,
   "metadata": {},
   "outputs": [],
   "source": [
    "def predict_sequence(model, tokenizer, source):\n",
    "\tprediction = model.predict(source, verbose=0)[0]\n",
    "\tprint(prediction)\n",
    "\tintegers = [np.argmax(vector) for vector in prediction]\n",
    "\tprint(integers)\n",
    "\ttarget = list()\n",
    "\tfor i in integers:\n",
    "\t\tword = word_for_id(i, tokenizer)\n",
    "\t\tif word is None:\n",
    "\t\t\tbreak\n",
    "\t\ttarget.append(word)\n",
    "\treturn ' '.join(target)"
   ]
  },
  {
   "cell_type": "code",
   "execution_count": 32,
   "metadata": {},
   "outputs": [],
   "source": [
    "sample_pred_txt = [\"hello i am sad today need some kind words\"]"
   ]
  },
  {
   "cell_type": "code",
   "execution_count": 36,
   "metadata": {},
   "outputs": [],
   "source": [
    "sample_pred_txt = encode_sequences(eng_tokenizer, 1531, sample_pred_txt)"
   ]
  },
  {
   "cell_type": "code",
   "execution_count": 62,
   "metadata": {},
   "outputs": [
    {
     "name": "stdout",
     "output_type": "stream",
     "text": [
      "[[4.67725769e-02 2.28690691e-02 1.57457013e-02 ... 2.43741597e-05\n",
      "  3.27524285e-05 2.78582065e-05]\n",
      " [1.32933974e-01 3.84270027e-02 2.82789599e-02 ... 7.85659449e-06\n",
      "  1.06466805e-05 9.53474319e-06]\n",
      " [1.72415331e-01 3.75424102e-02 3.06620076e-02 ... 6.18893455e-06\n",
      "  8.05057425e-06 7.75016997e-06]\n",
      " ...\n",
      " [6.26682818e-01 1.45009588e-02 1.07178641e-02 ... 3.06589095e-06\n",
      "  2.81753341e-06 3.56833925e-06]\n",
      " [6.26792729e-01 1.44970333e-02 1.07142255e-02 ... 3.06507218e-06\n",
      "  2.81687471e-06 3.56710007e-06]\n",
      " [6.26892865e-01 1.44934766e-02 1.07109342e-02 ... 3.06433412e-06\n",
      "  2.81627968e-06 3.56597616e-06]]\n",
      "[0, 0, 0, 0, 0, 0, 0, 0, 0, 0, 0, 0, 0, 0, 0, 0, 0, 0, 0, 0, 0, 0, 0, 0, 0, 0, 0, 0, 0, 0, 0, 0, 0, 0, 0, 0, 0, 0, 0, 0, 0, 0, 0, 0, 0, 0, 0, 0, 0, 0, 0, 0, 0, 0, 0, 0, 0, 0, 0, 0, 0, 0, 0]\n"
     ]
    },
    {
     "data": {
      "text/plain": [
       "''"
      ]
     },
     "execution_count": 62,
     "metadata": {},
     "output_type": "execute_result"
    }
   ],
   "source": [
    "predict_sequence(model, eng_tokenizer, sample_pred_txt)"
   ]
  },
  {
   "cell_type": "code",
   "execution_count": null,
   "metadata": {},
   "outputs": [],
   "source": []
  },
  {
   "cell_type": "code",
   "execution_count": null,
   "metadata": {},
   "outputs": [],
   "source": []
  },
  {
   "cell_type": "code",
   "execution_count": null,
=======
   "execution_count": 11,
>>>>>>> bab0298242c22bea06be9afa1db2a1c67aae66eb
   "metadata": {},
   "outputs": [],
   "source": []
  },
  {
   "cell_type": "code",
<<<<<<< HEAD
   "execution_count": 37,
=======
   "execution_count": 14,
>>>>>>> bab0298242c22bea06be9afa1db2a1c67aae66eb
   "metadata": {},
   "outputs": [
    {
     "name": "stdout",
     "output_type": "stream",
     "text": [
<<<<<<< HEAD
      "\r",
      "1/1 [==============================] - 0s 190ms/step\n"
=======
      "(91, 401)\n"
>>>>>>> bab0298242c22bea06be9afa1db2a1c67aae66eb
     ]
    },
    {
     "data": {
      "text/plain": [
<<<<<<< HEAD
       "array([[[4.67725769e-02, 2.28690691e-02, 1.57457013e-02, ...,\n",
       "         2.43741597e-05, 3.27524285e-05, 2.78582065e-05],\n",
       "        [1.32933974e-01, 3.84270027e-02, 2.82789599e-02, ...,\n",
       "         7.85659449e-06, 1.06466805e-05, 9.53474319e-06],\n",
       "        [1.72415331e-01, 3.75424102e-02, 3.06620076e-02, ...,\n",
       "         6.18893455e-06, 8.05057425e-06, 7.75016997e-06],\n",
       "        ...,\n",
       "        [6.26682818e-01, 1.45009588e-02, 1.07178641e-02, ...,\n",
       "         3.06589095e-06, 2.81753341e-06, 3.56833925e-06],\n",
       "        [6.26792729e-01, 1.44970333e-02, 1.07142255e-02, ...,\n",
       "         3.06507218e-06, 2.81687471e-06, 3.56710007e-06],\n",
       "        [6.26892865e-01, 1.44934766e-02, 1.07109342e-02, ...,\n",
       "         3.06433412e-06, 2.81627968e-06, 3.56597616e-06]]], dtype=float32)"
      ]
     },
     "execution_count": 37,
=======
       "'you are'"
      ]
     },
     "execution_count": 14,
>>>>>>> bab0298242c22bea06be9afa1db2a1c67aae66eb
     "metadata": {},
     "output_type": "execute_result"
    }
   ],
   "source": [
<<<<<<< HEAD
    "model.predict(sample_pred_txt, verbose=1)"
=======
    "t = ['I am depressed']\n",
    "source = encode_sequences(tokenizer, 45, t)\n",
    "prediction = model.predict(source, verbose=0)[0]\n",
    "print(prediction.shape)\n",
    "integers = [argmax(vector) for vector in prediction]\n",
    "target = list()\n",
    "for i in integers:\n",
    "    word = word_for_id(i, tokenizer)\n",
    "    if word is None:\n",
    "        break\n",
    "    target.append(word)\n",
    "' '.join(target)"
>>>>>>> bab0298242c22bea06be9afa1db2a1c67aae66eb
   ]
  },
  {
   "cell_type": "code",
   "execution_count": null,
   "metadata": {},
   "outputs": [],
   "source": []
  },
  {
   "cell_type": "code",
   "execution_count": null,
   "metadata": {},
   "outputs": [],
   "source": []
  },
  {
<<<<<<< HEAD
   "cell_type": "code",
   "execution_count": null,
   "metadata": {},
   "outputs": [],
   "source": []
  },
  {
=======
>>>>>>> bab0298242c22bea06be9afa1db2a1c67aae66eb
   "cell_type": "markdown",
   "metadata": {},
   "source": [
    "## Questions"
   ]
  },
  {
   "cell_type": "markdown",
   "metadata": {},
   "source": [
    "### How much effort is put into data preparation vs. actually training and evaluating the model?\n",
    "In the the tutorial that we followed, not too much effort was put into data preparation. Most of the effort was simply lowercasing, removing punctuation, removing non-printable characters, and removing numbers. We could do a lot more of data preparation by trying to lemmatize/stem, finding POS tags, getting the dependency parsing, and more. Training and evaluating the model takes the bulk of the effort in this tutorial, as we need to worry about how to create the model and using the BLEU score to evaluate it. \n",
    "\n",
    "### What constitutes the input features? What constitutes the top layer?\n",
    "The input features are made up of tokenized German words. Each word in an example is converted into an arbitrary list of numbers by the Keras Tokenizer. The output is also a list of tokenized words, but these words are in English and then they are also one-hot encoded so they work with the softmax in the model. \n",
    "\n",
    "### What does it mean that this is a \"generative\" classifier? How is that different from a discriminative classifier?\n",
    "A generative classifier creates output based on both the input data and the previous outputs of the model. This is necessary for our LSTM because it has to generate word w based on word w-1, which it also predicted. A discriminative classifer generates output only based on the input data, and \n",
    "\n",
    "### How do you know your model works? What does a BLEU metric tell you? Can you think of a better way to evaluate MT output?\n",
    "I know that my model works based on the BLEU metrics. This metric tells me how closely the predicted translation matches the target translation. This is not an exact match score, but it gives credit for a translation that is mostly the same. The higher the BLEU score, the better the predicted translation matches the target translation. There are different BLEU metrics for the different n-grams (BLEU-1, BLEU-2, etc). "
   ]
  },
  {
   "cell_type": "code",
   "execution_count": 5,
   "metadata": {},
   "outputs": [
    {
     "name": "stdout",
     "output_type": "stream",
     "text": [
      "=====================================================================\n",
      "Assignment: A8 Machine Translation with Keras\n",
      "OK, version v1.13.11\n",
      "=====================================================================\n",
      "\n",
      "Successfully logged in as DanieleMoro@u.boisestate.edu\n"
     ]
    }
   ],
   "source": [
    "from client.api.notebook import Notebook\n",
    "ok = Notebook('a8.ok')\n",
    "ok.auth(inline=True)"
   ]
  },
  {
   "cell_type": "code",
   "execution_count": 6,
   "metadata": {},
   "outputs": [
    {
     "data": {
      "application/javascript": [
       "IPython.notebook.save_checkpoint();"
      ],
      "text/plain": [
       "<IPython.core.display.Javascript object>"
      ]
     },
     "metadata": {},
     "output_type": "display_data"
    },
    {
     "data": {
      "application/javascript": [
       "IPython.notebook.save_notebook();"
      ],
      "text/plain": [
       "<IPython.core.display.Javascript object>"
      ]
     },
     "metadata": {},
     "output_type": "display_data"
    },
    {
     "name": "stdout",
     "output_type": "stream",
     "text": [
      "Saving notebook... Saved 'A8-machine-translation-keras.ipynb'.\n",
      "Submit... 0.0% complete\n",
      "Could not submit: Assignment does not exist\n",
      "\n"
     ]
    }
   ],
   "source": [
    "ok.submit()"
   ]
  },
  {
   "cell_type": "code",
   "execution_count": null,
   "metadata": {},
   "outputs": [],
   "source": []
  }
 ],
 "metadata": {
  "kernelspec": {
   "display_name": "Python [conda env:menv]",
   "language": "python",
   "name": "conda-env-menv-py"
  },
  "language_info": {
   "codemirror_mode": {
    "name": "ipython",
    "version": 3
   },
   "file_extension": ".py",
   "mimetype": "text/x-python",
   "name": "python",
   "nbconvert_exporter": "python",
   "pygments_lexer": "ipython3",
   "version": "3.6.8"
  }
 },
 "nbformat": 4,
 "nbformat_minor": 2
}
