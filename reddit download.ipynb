{
 "cells": [
  {
   "cell_type": "code",
   "execution_count": 1,
   "metadata": {},
   "outputs": [],
   "source": [
    "import json"
   ]
  },
  {
   "cell_type": "code",
   "execution_count": 4,
   "metadata": {},
   "outputs": [],
   "source": [
    "from tqdm import tqdm_notebook"
   ]
  },
  {
   "cell_type": "code",
   "execution_count": 2,
   "metadata": {},
   "outputs": [
    {
     "name": "stdout",
     "output_type": "stream",
     "text": [
      "True\n"
     ]
    }
   ],
   "source": [
    "import praw\n",
    "\n",
    "reddit = praw.Reddit(client_id='b-rGm7WdyYgAUw',\n",
    "                     client_secret='NTUUgRLnUso2C-y8GQkdyWykmeo',\n",
    "                     user_agent='ToastMeBot')\n",
    "print(reddit.read_only) "
   ]
  },
  {
   "cell_type": "code",
   "execution_count": 8,
   "metadata": {},
   "outputs": [
    {
     "name": "stdout",
     "output_type": "stream",
     "text": [
      "clearing data.json\n"
     ]
    }
   ],
   "source": [
    "input(\"clearing data.json. Press enter to continue\")\n",
    "json.dump(\"\", open('data.json', 'w'))"
   ]
  },
  {
   "cell_type": "code",
   "execution_count": null,
   "metadata": {},
   "outputs": [
    {
     "data": {
      "application/vnd.jupyter.widget-view+json": {
       "model_id": "076475d6a6984fa2b5078dbc8766d0ab",
       "version_major": 2,
       "version_minor": 0
      },
      "text/plain": [
       "HBox(children=(IntProgress(value=0, max=10000), HTML(value='')))"
      ]
     },
     "metadata": {},
     "output_type": "display_data"
    },
    {
     "name": "stdout",
     "output_type": "stream",
     "text": [
      "dumping 0\n",
      "dumping 100\n",
      "dumping 200\n",
      "dumping 300\n",
      "dumping 400\n",
      "dumping 500\n"
     ]
    }
   ],
   "source": [
    "data = []\n",
    "for i, submission in tqdm_notebook(enumerate(reddit.subreddit('toastme').top(limit=10000)), total=10000):\n",
    "    curr = {}\n",
    "    curr['title'] = submission.title\n",
    "    curr['url'] = submission.url\n",
    "    curr['comments'] = [comment.body for comment in submission.comments if hasattr(comment, 'body')]\n",
    "    data.append(curr)\n",
    "    \n",
    "    if i % 100 == 0:\n",
    "        json.dump(data, open('data.json', 'w'))\n",
    "        print(\"dumping\", i)\n",
    "\n",
    "json.dump(data, open('data.json', 'w'))"
   ]
  },
  {
   "cell_type": "code",
   "execution_count": null,
   "metadata": {},
   "outputs": [],
   "source": []
  }
 ],
 "metadata": {
  "kernelspec": {
   "display_name": "Python 3",
   "language": "python",
   "name": "python3"
  },
  "language_info": {
   "codemirror_mode": {
    "name": "ipython",
    "version": 3
   },
   "file_extension": ".py",
   "mimetype": "text/x-python",
   "name": "python",
   "nbconvert_exporter": "python",
   "pygments_lexer": "ipython3",
   "version": "3.6.8"
  }
 },
 "nbformat": 4,
 "nbformat_minor": 2
}
