{
 "cells": [
  {
   "cell_type": "code",
   "execution_count": 1,
   "metadata": {},
   "outputs": [],
   "source": [
    "import json"
   ]
  },
  {
   "cell_type": "code",
   "execution_count": 2,
   "metadata": {},
   "outputs": [
    {
     "name": "stdout",
     "output_type": "stream",
     "text": [
      "True\n"
     ]
    }
   ],
   "source": [
    "import praw\n",
    "\n",
    "reddit = praw.Reddit(client_id='b-rGm7WdyYgAUw',\n",
    "                     client_secret='NTUUgRLnUso2C-y8GQkdyWykmeo',\n",
    "                     user_agent='ToastMeBot')\n",
    "print(reddit.read_only) "
   ]
  },
  {
   "cell_type": "code",
   "execution_count": 4,
   "metadata": {},
   "outputs": [],
   "source": [
    "data = []\n",
    "for submission in reddit.subreddit('toastme').top(limit=1000):\n",
    "    curr = {}\n",
    "    curr['title'] = submission.title\n",
    "    curr['url'] = submission.url\n",
    "    curr['comments'] = [comment.body for comment in submission.comments if hasattr(comment, 'body')]\n",
    "    data.append(curr)\n",
    "\n",
    "json.dump(data, open('data.json', 'w'))"
   ]
  },
  {
   "cell_type": "code",
   "execution_count": null,
   "metadata": {},
   "outputs": [],
   "source": []
  }
 ],
 "metadata": {
  "kernelspec": {
   "display_name": "Python 3",
   "language": "python",
   "name": "python3"
  },
  "language_info": {
   "codemirror_mode": {
    "name": "ipython",
    "version": 3
   },
   "file_extension": ".py",
   "mimetype": "text/x-python",
   "name": "python",
   "nbconvert_exporter": "python",
   "pygments_lexer": "ipython3",
   "version": "3.7.1"
  }
 },
 "nbformat": 4,
 "nbformat_minor": 2
}
